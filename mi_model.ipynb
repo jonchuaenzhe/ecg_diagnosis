{
 "cells": [
  {
   "cell_type": "markdown",
   "metadata": {
    "id": "uUhdDrycM20d"
   },
   "source": [
    "# Pipeline to Train Model for MI\n",
    "\n",
    "This notebook details the steps and pipeline to train a CNN that takes in a standard 12-lead ECG consisting of 4 channels, each of 10 seconds. It will then predict if the ECG has Myocardial Infarction"
   ]
  },
  {
   "cell_type": "markdown",
   "metadata": {},
   "source": [
    "## Set up Notebook"
   ]
  },
  {
   "cell_type": "code",
   "execution_count": 1,
   "metadata": {
    "executionInfo": {
     "elapsed": 4325,
     "status": "ok",
     "timestamp": 1627801631058,
     "user": {
      "displayName": "Biotrack Software",
      "photoUrl": "",
      "userId": "16396993350817110528"
     },
     "user_tz": -480
    },
    "id": "yQxAdpreL_3-"
   },
   "outputs": [],
   "source": [
    "import numpy as np\n",
    "import pandas as pd\n",
    "import matplotlib.pyplot as plt\n",
    "from helper_code import *\n",
    "from sklearn.preprocessing import StandardScaler\n",
    "import time\n",
    "import math\n",
    "import seaborn as sns\n",
    "from sklearn.model_selection import train_test_split"
   ]
  },
  {
   "cell_type": "markdown",
   "metadata": {},
   "source": [
    "## Load dataset csv\n",
    "The dataset here basically has the filenames of each recording, and the tf.Dataset object will load the recording itself during the training"
   ]
  },
  {
   "cell_type": "code",
   "execution_count": 2,
   "metadata": {
    "colab": {
     "base_uri": "https://localhost:8080/",
     "height": 408
    },
    "executionInfo": {
     "elapsed": 6,
     "status": "ok",
     "timestamp": 1627707951174,
     "user": {
      "displayName": "Biotrack Software",
      "photoUrl": "",
      "userId": "16396993350817110528"
     },
     "user_tz": -480
    },
    "id": "47O6G1xyL_3-",
    "outputId": "599738de-e1fd-4787-92f7-c5f603b12429"
   },
   "outputs": [
    {
     "data": {
      "text/html": [
       "<div>\n",
       "<style scoped>\n",
       "    .dataframe tbody tr th:only-of-type {\n",
       "        vertical-align: middle;\n",
       "    }\n",
       "\n",
       "    .dataframe tbody tr th {\n",
       "        vertical-align: top;\n",
       "    }\n",
       "\n",
       "    .dataframe thead th {\n",
       "        text-align: right;\n",
       "    }\n",
       "</style>\n",
       "<table border=\"1\" class=\"dataframe\">\n",
       "  <thead>\n",
       "    <tr style=\"text-align: right;\">\n",
       "      <th></th>\n",
       "      <th>Recording</th>\n",
       "      <th>Afib</th>\n",
       "      <th>Afl</th>\n",
       "      <th>MI</th>\n",
       "      <th>SVT</th>\n",
       "      <th>DB</th>\n",
       "    </tr>\n",
       "  </thead>\n",
       "  <tbody>\n",
       "    <tr>\n",
       "      <th>0</th>\n",
       "      <td>data/cpsc/A4924.mat</td>\n",
       "      <td>0</td>\n",
       "      <td>0</td>\n",
       "      <td>0</td>\n",
       "      <td>0</td>\n",
       "      <td>CP</td>\n",
       "    </tr>\n",
       "    <tr>\n",
       "      <th>1</th>\n",
       "      <td>data/cpsc/A2054.mat</td>\n",
       "      <td>0</td>\n",
       "      <td>0</td>\n",
       "      <td>0</td>\n",
       "      <td>0</td>\n",
       "      <td>CP</td>\n",
       "    </tr>\n",
       "    <tr>\n",
       "      <th>2</th>\n",
       "      <td>data/cpsc/A5391.mat</td>\n",
       "      <td>0</td>\n",
       "      <td>0</td>\n",
       "      <td>0</td>\n",
       "      <td>0</td>\n",
       "      <td>CP</td>\n",
       "    </tr>\n",
       "    <tr>\n",
       "      <th>3</th>\n",
       "      <td>data/cpsc/A3580.mat</td>\n",
       "      <td>0</td>\n",
       "      <td>0</td>\n",
       "      <td>0</td>\n",
       "      <td>0</td>\n",
       "      <td>CP</td>\n",
       "    </tr>\n",
       "    <tr>\n",
       "      <th>4</th>\n",
       "      <td>data/cpsc/A4948.mat</td>\n",
       "      <td>0</td>\n",
       "      <td>0</td>\n",
       "      <td>0</td>\n",
       "      <td>0</td>\n",
       "      <td>CP</td>\n",
       "    </tr>\n",
       "    <tr>\n",
       "      <th>...</th>\n",
       "      <td>...</td>\n",
       "      <td>...</td>\n",
       "      <td>...</td>\n",
       "      <td>...</td>\n",
       "      <td>...</td>\n",
       "      <td>...</td>\n",
       "    </tr>\n",
       "    <tr>\n",
       "      <th>85738</th>\n",
       "      <td>data/ningbo/JS32861.mat</td>\n",
       "      <td>0</td>\n",
       "      <td>0</td>\n",
       "      <td>0</td>\n",
       "      <td>0</td>\n",
       "      <td>NI</td>\n",
       "    </tr>\n",
       "    <tr>\n",
       "      <th>85739</th>\n",
       "      <td>data/ningbo/JS41305.mat</td>\n",
       "      <td>0</td>\n",
       "      <td>0</td>\n",
       "      <td>0</td>\n",
       "      <td>0</td>\n",
       "      <td>NI</td>\n",
       "    </tr>\n",
       "    <tr>\n",
       "      <th>85740</th>\n",
       "      <td>data/ningbo/JS25189.mat</td>\n",
       "      <td>0</td>\n",
       "      <td>0</td>\n",
       "      <td>0</td>\n",
       "      <td>0</td>\n",
       "      <td>NI</td>\n",
       "    </tr>\n",
       "    <tr>\n",
       "      <th>85741</th>\n",
       "      <td>data/ningbo/JS42616.mat</td>\n",
       "      <td>0</td>\n",
       "      <td>0</td>\n",
       "      <td>0</td>\n",
       "      <td>0</td>\n",
       "      <td>NI</td>\n",
       "    </tr>\n",
       "    <tr>\n",
       "      <th>85742</th>\n",
       "      <td>data/ningbo/JS14218.mat</td>\n",
       "      <td>0</td>\n",
       "      <td>1</td>\n",
       "      <td>0</td>\n",
       "      <td>0</td>\n",
       "      <td>NI</td>\n",
       "    </tr>\n",
       "  </tbody>\n",
       "</table>\n",
       "<p>85743 rows × 6 columns</p>\n",
       "</div>"
      ],
      "text/plain": [
       "                     Recording  Afib  Afl  MI  SVT  DB\n",
       "0          data/cpsc/A4924.mat     0    0   0    0  CP\n",
       "1          data/cpsc/A2054.mat     0    0   0    0  CP\n",
       "2          data/cpsc/A5391.mat     0    0   0    0  CP\n",
       "3          data/cpsc/A3580.mat     0    0   0    0  CP\n",
       "4          data/cpsc/A4948.mat     0    0   0    0  CP\n",
       "...                        ...   ...  ...  ..  ...  ..\n",
       "85738  data/ningbo/JS32861.mat     0    0   0    0  NI\n",
       "85739  data/ningbo/JS41305.mat     0    0   0    0  NI\n",
       "85740  data/ningbo/JS25189.mat     0    0   0    0  NI\n",
       "85741  data/ningbo/JS42616.mat     0    0   0    0  NI\n",
       "85742  data/ningbo/JS14218.mat     0    1   0    0  NI\n",
       "\n",
       "[85743 rows x 6 columns]"
      ]
     },
     "execution_count": 2,
     "metadata": {},
     "output_type": "execute_result"
    }
   ],
   "source": [
    "full_df = pd.read_csv(\"full_dataset.csv\")\n",
    "full_df"
   ]
  },
  {
   "cell_type": "code",
   "execution_count": 4,
   "metadata": {},
   "outputs": [
    {
     "data": {
      "text/html": [
       "<div>\n",
       "<style scoped>\n",
       "    .dataframe tbody tr th:only-of-type {\n",
       "        vertical-align: middle;\n",
       "    }\n",
       "\n",
       "    .dataframe tbody tr th {\n",
       "        vertical-align: top;\n",
       "    }\n",
       "\n",
       "    .dataframe thead th {\n",
       "        text-align: right;\n",
       "    }\n",
       "</style>\n",
       "<table border=\"1\" class=\"dataframe\">\n",
       "  <thead>\n",
       "    <tr style=\"text-align: right;\">\n",
       "      <th></th>\n",
       "      <th>Recording</th>\n",
       "      <th>Afib</th>\n",
       "      <th>Afl</th>\n",
       "      <th>MI</th>\n",
       "      <th>SVT</th>\n",
       "      <th>DB</th>\n",
       "    </tr>\n",
       "  </thead>\n",
       "  <tbody>\n",
       "    <tr>\n",
       "      <th>0</th>\n",
       "      <td>data/cpsc/A4924.mat</td>\n",
       "      <td>0</td>\n",
       "      <td>0</td>\n",
       "      <td>0</td>\n",
       "      <td>0</td>\n",
       "      <td>CP</td>\n",
       "    </tr>\n",
       "    <tr>\n",
       "      <th>1</th>\n",
       "      <td>data/cpsc/A2054.mat</td>\n",
       "      <td>0</td>\n",
       "      <td>0</td>\n",
       "      <td>0</td>\n",
       "      <td>0</td>\n",
       "      <td>CP</td>\n",
       "    </tr>\n",
       "    <tr>\n",
       "      <th>2</th>\n",
       "      <td>data/cpsc/A5391.mat</td>\n",
       "      <td>0</td>\n",
       "      <td>0</td>\n",
       "      <td>0</td>\n",
       "      <td>0</td>\n",
       "      <td>CP</td>\n",
       "    </tr>\n",
       "    <tr>\n",
       "      <th>3</th>\n",
       "      <td>data/cpsc/A3580.mat</td>\n",
       "      <td>0</td>\n",
       "      <td>0</td>\n",
       "      <td>0</td>\n",
       "      <td>0</td>\n",
       "      <td>CP</td>\n",
       "    </tr>\n",
       "    <tr>\n",
       "      <th>4</th>\n",
       "      <td>data/cpsc/A4948.mat</td>\n",
       "      <td>0</td>\n",
       "      <td>0</td>\n",
       "      <td>0</td>\n",
       "      <td>0</td>\n",
       "      <td>CP</td>\n",
       "    </tr>\n",
       "    <tr>\n",
       "      <th>...</th>\n",
       "      <td>...</td>\n",
       "      <td>...</td>\n",
       "      <td>...</td>\n",
       "      <td>...</td>\n",
       "      <td>...</td>\n",
       "      <td>...</td>\n",
       "    </tr>\n",
       "    <tr>\n",
       "      <th>85738</th>\n",
       "      <td>data/ningbo/JS32861.mat</td>\n",
       "      <td>0</td>\n",
       "      <td>0</td>\n",
       "      <td>0</td>\n",
       "      <td>0</td>\n",
       "      <td>NI</td>\n",
       "    </tr>\n",
       "    <tr>\n",
       "      <th>85739</th>\n",
       "      <td>data/ningbo/JS41305.mat</td>\n",
       "      <td>0</td>\n",
       "      <td>0</td>\n",
       "      <td>0</td>\n",
       "      <td>0</td>\n",
       "      <td>NI</td>\n",
       "    </tr>\n",
       "    <tr>\n",
       "      <th>85740</th>\n",
       "      <td>data/ningbo/JS25189.mat</td>\n",
       "      <td>0</td>\n",
       "      <td>0</td>\n",
       "      <td>0</td>\n",
       "      <td>0</td>\n",
       "      <td>NI</td>\n",
       "    </tr>\n",
       "    <tr>\n",
       "      <th>85741</th>\n",
       "      <td>data/ningbo/JS42616.mat</td>\n",
       "      <td>0</td>\n",
       "      <td>0</td>\n",
       "      <td>0</td>\n",
       "      <td>0</td>\n",
       "      <td>NI</td>\n",
       "    </tr>\n",
       "    <tr>\n",
       "      <th>85742</th>\n",
       "      <td>data/ningbo/JS14218.mat</td>\n",
       "      <td>0</td>\n",
       "      <td>1</td>\n",
       "      <td>0</td>\n",
       "      <td>0</td>\n",
       "      <td>NI</td>\n",
       "    </tr>\n",
       "  </tbody>\n",
       "</table>\n",
       "<p>82942 rows × 6 columns</p>\n",
       "</div>"
      ],
      "text/plain": [
       "                     Recording  Afib  Afl  MI  SVT  DB\n",
       "0          data/cpsc/A4924.mat     0    0   0    0  CP\n",
       "1          data/cpsc/A2054.mat     0    0   0    0  CP\n",
       "2          data/cpsc/A5391.mat     0    0   0    0  CP\n",
       "3          data/cpsc/A3580.mat     0    0   0    0  CP\n",
       "4          data/cpsc/A4948.mat     0    0   0    0  CP\n",
       "...                        ...   ...  ...  ..  ...  ..\n",
       "85738  data/ningbo/JS32861.mat     0    0   0    0  NI\n",
       "85739  data/ningbo/JS41305.mat     0    0   0    0  NI\n",
       "85740  data/ningbo/JS25189.mat     0    0   0    0  NI\n",
       "85741  data/ningbo/JS42616.mat     0    0   0    0  NI\n",
       "85742  data/ningbo/JS14218.mat     0    1   0    0  NI\n",
       "\n",
       "[82942 rows x 6 columns]"
      ]
     },
     "execution_count": 4,
     "metadata": {},
     "output_type": "execute_result"
    }
   ],
   "source": [
    "train_val_df = full_df[full_df['DB'] != 'C2']\n",
    "train_val_df"
   ]
  },
  {
   "cell_type": "code",
   "execution_count": 5,
   "metadata": {},
   "outputs": [],
   "source": [
    "train_df, val_df = train_test_split(train_val_df, test_size=0.2, random_state=42)"
   ]
  },
  {
   "cell_type": "code",
   "execution_count": 6,
   "metadata": {},
   "outputs": [
    {
     "name": "stdout",
     "output_type": "stream",
     "text": [
      "% of MI in test: 0.2025598219254313\n"
     ]
    }
   ],
   "source": [
    "# Ensure that the % of MI is the same as the 20% train test split\n",
    "print(\"% of MI in test: {}\".format(val_df['MI'].sum()/train_val_df['MI'].sum()))"
   ]
  },
  {
   "cell_type": "markdown",
   "metadata": {},
   "source": [
    "## Visualize Data Augmentations\n",
    "\n",
    "We increase the dataset with 3 augmentations:\n",
    "1. Adding low freq sine wave as baseline wander\n",
    "2. Adding 50Hz power line noise\n",
    "3. Adding random gaussian noise\n",
    "\n",
    "This augmentation also adds noise to the training data and thus makes the model more robust to noise"
   ]
  },
  {
   "cell_type": "code",
   "execution_count": 7,
   "metadata": {},
   "outputs": [
    {
     "data": {
      "image/png": "[encoded data removed]",
      "text/plain": [
       "<Figure size 432x288 with 1 Axes>"
      ]
     },
     "metadata": {
      "needs_background": "light"
     },
     "output_type": "display_data"
    }
   ],
   "source": [
    "# Use loguniform so as to concentrate the randomness in the lower spectrum\n",
    "\n",
    "from scipy.stats import loguniform\n",
    "\n",
    "arr = []\n",
    "for i in range(500):\n",
    "    arr.append(loguniform.rvs(0.02, 0.5, size=None))\n",
    "    \n",
    "sns.histplot(data=arr)\n",
    "plt.show()"
   ]
  },
  {
   "cell_type": "code",
   "execution_count": 8,
   "metadata": {},
   "outputs": [
    {
     "data": {
      "text/plain": [
       "[<matplotlib.lines.Line2D at 0x7fda6917a890>]"
      ]
     },
     "execution_count": 8,
     "metadata": {},
     "output_type": "execute_result"
    },
    {
     "data": {
      "image/png": "[encoded data removed]",
      "text/plain": [
       "<Figure size 1440x144 with 1 Axes>"
      ]
     },
     "metadata": {
      "needs_background": "light"
     },
     "output_type": "display_data"
    }
   ],
   "source": [
    "# Baseline Wander\n",
    "\n",
    "def get_bw(qrs_amp):\n",
    "    amp = np.random.rand() * 0.15 * qrs_amp      # Amplitude\n",
    "    f = loguniform.rvs(0.02, 0.5, size=None)     # Frequency\n",
    "    fs = 250                                     # Sample Rate\n",
    "    t = 10\n",
    "\n",
    "    x = np.arange(fs * t)\n",
    "    y = [amp*np.sin(2 * np.pi * f * (i/fs)) for i in x]\n",
    "    \n",
    "    return np.array(y)\n",
    "\n",
    "y = get_bw(6)\n",
    "\n",
    "plt.figure(figsize=(20,2))\n",
    "plt.plot(list(range(len(y))), y)"
   ]
  },
  {
   "cell_type": "code",
   "execution_count": 9,
   "metadata": {},
   "outputs": [
    {
     "data": {
      "text/plain": [
       "[<matplotlib.lines.Line2D at 0x7fda69a5d4d0>]"
      ]
     },
     "execution_count": 9,
     "metadata": {},
     "output_type": "execute_result"
    },
    {
     "data": {
      "image/png": "[encoded data removed]",
      "text/plain": [
       "<Figure size 1440x360 with 1 Axes>"
      ]
     },
     "metadata": {
      "needs_background": "light"
     },
     "output_type": "display_data"
    }
   ],
   "source": [
    "# Power Line\n",
    "\n",
    "def get_pli(qrs_amp):\n",
    "    amp = qrs_amp * 0.025 * np.random.rand()    # Amplitude\n",
    "    f = 50     # Frequency\n",
    "    fs = 250     # Sample Rate\n",
    "    t = 10\n",
    "\n",
    "    x = np.arange(fs * t)\n",
    "    y = [amp*np.sin(2 * np.pi * f * (i/fs)) for i in x]\n",
    "    \n",
    "    return np.array(y)\n",
    "    \n",
    "y = get_pli(6.5)\n",
    "\n",
    "plt.figure(figsize=(20,5))\n",
    "plt.plot(list(range(len(y[:50]))), y[:50], '--bo')"
   ]
  },
  {
   "cell_type": "code",
   "execution_count": 10,
   "metadata": {},
   "outputs": [
    {
     "data": {
      "text/plain": [
       "[<matplotlib.lines.Line2D at 0x7fda69086b50>]"
      ]
     },
     "execution_count": 10,
     "metadata": {},
     "output_type": "execute_result"
    },
    {
     "data": {
      "image/png": "[encoded data removed]",
      "text/plain": [
       "<Figure size 1440x360 with 1 Axes>"
      ]
     },
     "metadata": {
      "needs_background": "light"
     },
     "output_type": "display_data"
    }
   ],
   "source": [
    "# Gaussian Noise\n",
    "\n",
    "def get_gauss():\n",
    "    gauss = np.random.normal(0, 0.08, (2500,))\n",
    "    \n",
    "    return gauss\n",
    "\n",
    "gauss = get_gauss()\n",
    "\n",
    "plt.figure(figsize=(20,5))\n",
    "plt.plot(list(range(len(gauss))), gauss)"
   ]
  },
  {
   "cell_type": "code",
   "execution_count": 14,
   "metadata": {},
   "outputs": [],
   "source": [
    "# Function to randomly augment any ECG lead with noise\n",
    "\n",
    "def augment_leads(leads, aug_no):\n",
    "    new_leads = []\n",
    "    \n",
    "    for lead in leads:\n",
    "        qrs_amp = max(lead.max(), abs(lead.min()))\n",
    "        \n",
    "        if aug_no == 2:\n",
    "            lead = lead + get_bw(qrs_amp)\n",
    "        elif aug_no == 3:\n",
    "            lead = lead + get_pli(qrs_amp)\n",
    "        elif aug_no == 4:\n",
    "            lead = lead + get_gauss()\n",
    "        \n",
    "        new_leads.append(lead)\n",
    "    \n",
    "    return np.array(new_leads)"
   ]
  },
  {
   "cell_type": "markdown",
   "metadata": {},
   "source": [
    "## Upsample MI Positive Data\n",
    "\n",
    "Due to class imbalance, the positive data has to be upsampled"
   ]
  },
  {
   "cell_type": "code",
   "execution_count": 20,
   "metadata": {},
   "outputs": [
    {
     "data": {
      "text/html": [
       "<div>\n",
       "<style scoped>\n",
       "    .dataframe tbody tr th:only-of-type {\n",
       "        vertical-align: middle;\n",
       "    }\n",
       "\n",
       "    .dataframe tbody tr th {\n",
       "        vertical-align: top;\n",
       "    }\n",
       "\n",
       "    .dataframe thead th {\n",
       "        text-align: right;\n",
       "    }\n",
       "</style>\n",
       "<table border=\"1\" class=\"dataframe\">\n",
       "  <thead>\n",
       "    <tr style=\"text-align: right;\">\n",
       "      <th></th>\n",
       "      <th>Recording</th>\n",
       "      <th>MI</th>\n",
       "    </tr>\n",
       "  </thead>\n",
       "  <tbody>\n",
       "    <tr>\n",
       "      <th>18036</th>\n",
       "      <td>data/georgia/E02096.mat</td>\n",
       "      <td>0</td>\n",
       "    </tr>\n",
       "    <tr>\n",
       "      <th>83766</th>\n",
       "      <td>data/ningbo/JS22721.mat</td>\n",
       "      <td>0</td>\n",
       "    </tr>\n",
       "    <tr>\n",
       "      <th>25188</th>\n",
       "      <td>data/ptbxl/HR00083.mat</td>\n",
       "      <td>0</td>\n",
       "    </tr>\n",
       "    <tr>\n",
       "      <th>23912</th>\n",
       "      <td>data/ptbxl/HR13179.mat</td>\n",
       "      <td>1</td>\n",
       "    </tr>\n",
       "    <tr>\n",
       "      <th>42194</th>\n",
       "      <td>data/chapman/JS07570.mat</td>\n",
       "      <td>0</td>\n",
       "    </tr>\n",
       "    <tr>\n",
       "      <th>...</th>\n",
       "      <td>...</td>\n",
       "      <td>...</td>\n",
       "    </tr>\n",
       "    <tr>\n",
       "      <th>9066</th>\n",
       "      <td>data/georgia/E05152.mat</td>\n",
       "      <td>0</td>\n",
       "    </tr>\n",
       "    <tr>\n",
       "      <th>57687</th>\n",
       "      <td>data/ningbo/JS34839.mat</td>\n",
       "      <td>0</td>\n",
       "    </tr>\n",
       "    <tr>\n",
       "      <th>79621</th>\n",
       "      <td>data/ningbo/JS36549.mat</td>\n",
       "      <td>0</td>\n",
       "    </tr>\n",
       "    <tr>\n",
       "      <th>860</th>\n",
       "      <td>data/cpsc/A5399.mat</td>\n",
       "      <td>0</td>\n",
       "    </tr>\n",
       "    <tr>\n",
       "      <th>18596</th>\n",
       "      <td>data/georgia/E09329.mat</td>\n",
       "      <td>0</td>\n",
       "    </tr>\n",
       "  </tbody>\n",
       "</table>\n",
       "<p>66353 rows × 2 columns</p>\n",
       "</div>"
      ],
      "text/plain": [
       "                      Recording  MI\n",
       "18036   data/georgia/E02096.mat   0\n",
       "83766   data/ningbo/JS22721.mat   0\n",
       "25188    data/ptbxl/HR00083.mat   0\n",
       "23912    data/ptbxl/HR13179.mat   1\n",
       "42194  data/chapman/JS07570.mat   0\n",
       "...                         ...  ..\n",
       "9066    data/georgia/E05152.mat   0\n",
       "57687   data/ningbo/JS34839.mat   0\n",
       "79621   data/ningbo/JS36549.mat   0\n",
       "860         data/cpsc/A5399.mat   0\n",
       "18596   data/georgia/E09329.mat   0\n",
       "\n",
       "[66353 rows x 2 columns]"
      ]
     },
     "execution_count": 20,
     "metadata": {},
     "output_type": "execute_result"
    }
   ],
   "source": [
    "mi_train = train_df[['Recording', 'MI']]\n",
    "mi_train"
   ]
  },
  {
   "cell_type": "code",
   "execution_count": 21,
   "metadata": {},
   "outputs": [
    {
     "data": {
      "text/html": [
       "<div>\n",
       "<style scoped>\n",
       "    .dataframe tbody tr th:only-of-type {\n",
       "        vertical-align: middle;\n",
       "    }\n",
       "\n",
       "    .dataframe tbody tr th {\n",
       "        vertical-align: top;\n",
       "    }\n",
       "\n",
       "    .dataframe thead th {\n",
       "        text-align: right;\n",
       "    }\n",
       "</style>\n",
       "<table border=\"1\" class=\"dataframe\">\n",
       "  <thead>\n",
       "    <tr style=\"text-align: right;\">\n",
       "      <th></th>\n",
       "      <th>Recording</th>\n",
       "      <th>MI</th>\n",
       "    </tr>\n",
       "  </thead>\n",
       "  <tbody>\n",
       "    <tr>\n",
       "      <th>18036</th>\n",
       "      <td>data/georgia/E02096.mat</td>\n",
       "      <td>0</td>\n",
       "    </tr>\n",
       "    <tr>\n",
       "      <th>83766</th>\n",
       "      <td>data/ningbo/JS22721.mat</td>\n",
       "      <td>0</td>\n",
       "    </tr>\n",
       "    <tr>\n",
       "      <th>25188</th>\n",
       "      <td>data/ptbxl/HR00083.mat</td>\n",
       "      <td>0</td>\n",
       "    </tr>\n",
       "    <tr>\n",
       "      <th>42194</th>\n",
       "      <td>data/chapman/JS07570.mat</td>\n",
       "      <td>0</td>\n",
       "    </tr>\n",
       "    <tr>\n",
       "      <th>43807</th>\n",
       "      <td>data/chapman/JS05904.mat</td>\n",
       "      <td>0</td>\n",
       "    </tr>\n",
       "    <tr>\n",
       "      <th>...</th>\n",
       "      <td>...</td>\n",
       "      <td>...</td>\n",
       "    </tr>\n",
       "    <tr>\n",
       "      <th>9066</th>\n",
       "      <td>data/georgia/E05152.mat</td>\n",
       "      <td>0</td>\n",
       "    </tr>\n",
       "    <tr>\n",
       "      <th>57687</th>\n",
       "      <td>data/ningbo/JS34839.mat</td>\n",
       "      <td>0</td>\n",
       "    </tr>\n",
       "    <tr>\n",
       "      <th>79621</th>\n",
       "      <td>data/ningbo/JS36549.mat</td>\n",
       "      <td>0</td>\n",
       "    </tr>\n",
       "    <tr>\n",
       "      <th>860</th>\n",
       "      <td>data/cpsc/A5399.mat</td>\n",
       "      <td>0</td>\n",
       "    </tr>\n",
       "    <tr>\n",
       "      <th>18596</th>\n",
       "      <td>data/georgia/E09329.mat</td>\n",
       "      <td>0</td>\n",
       "    </tr>\n",
       "  </tbody>\n",
       "</table>\n",
       "<p>62054 rows × 2 columns</p>\n",
       "</div>"
      ],
      "text/plain": [
       "                      Recording  MI\n",
       "18036   data/georgia/E02096.mat   0\n",
       "83766   data/ningbo/JS22721.mat   0\n",
       "25188    data/ptbxl/HR00083.mat   0\n",
       "42194  data/chapman/JS07570.mat   0\n",
       "43807  data/chapman/JS05904.mat   0\n",
       "...                         ...  ..\n",
       "9066    data/georgia/E05152.mat   0\n",
       "57687   data/ningbo/JS34839.mat   0\n",
       "79621   data/ningbo/JS36549.mat   0\n",
       "860         data/cpsc/A5399.mat   0\n",
       "18596   data/georgia/E09329.mat   0\n",
       "\n",
       "[62054 rows x 2 columns]"
      ]
     },
     "execution_count": 21,
     "metadata": {},
     "output_type": "execute_result"
    }
   ],
   "source": [
    "mi_train_F = mi_train[mi_train['MI'] == 0]\n",
    "mi_train_F"
   ]
  },
  {
   "cell_type": "code",
   "execution_count": 22,
   "metadata": {},
   "outputs": [
    {
     "data": {
      "text/html": [
       "<div>\n",
       "<style scoped>\n",
       "    .dataframe tbody tr th:only-of-type {\n",
       "        vertical-align: middle;\n",
       "    }\n",
       "\n",
       "    .dataframe tbody tr th {\n",
       "        vertical-align: top;\n",
       "    }\n",
       "\n",
       "    .dataframe thead th {\n",
       "        text-align: right;\n",
       "    }\n",
       "</style>\n",
       "<table border=\"1\" class=\"dataframe\">\n",
       "  <thead>\n",
       "    <tr style=\"text-align: right;\">\n",
       "      <th></th>\n",
       "      <th>Recording</th>\n",
       "      <th>MI</th>\n",
       "    </tr>\n",
       "  </thead>\n",
       "  <tbody>\n",
       "    <tr>\n",
       "      <th>23912</th>\n",
       "      <td>data/ptbxl/HR13179.mat</td>\n",
       "      <td>1</td>\n",
       "    </tr>\n",
       "    <tr>\n",
       "      <th>27689</th>\n",
       "      <td>data/ptbxl/HR01275.mat</td>\n",
       "      <td>1</td>\n",
       "    </tr>\n",
       "    <tr>\n",
       "      <th>21803</th>\n",
       "      <td>data/ptbxl/HR15721.mat</td>\n",
       "      <td>1</td>\n",
       "    </tr>\n",
       "    <tr>\n",
       "      <th>21149</th>\n",
       "      <td>data/ptbxl/HR05444.mat</td>\n",
       "      <td>1</td>\n",
       "    </tr>\n",
       "    <tr>\n",
       "      <th>33190</th>\n",
       "      <td>data/ptbxl/HR11917.mat</td>\n",
       "      <td>1</td>\n",
       "    </tr>\n",
       "    <tr>\n",
       "      <th>...</th>\n",
       "      <td>...</td>\n",
       "      <td>...</td>\n",
       "    </tr>\n",
       "    <tr>\n",
       "      <th>26220</th>\n",
       "      <td>data/ptbxl/HR05219.mat</td>\n",
       "      <td>1</td>\n",
       "    </tr>\n",
       "    <tr>\n",
       "      <th>38721</th>\n",
       "      <td>data/ptbxl/HR13170.mat</td>\n",
       "      <td>1</td>\n",
       "    </tr>\n",
       "    <tr>\n",
       "      <th>26698</th>\n",
       "      <td>data/ptbxl/HR12368.mat</td>\n",
       "      <td>1</td>\n",
       "    </tr>\n",
       "    <tr>\n",
       "      <th>38574</th>\n",
       "      <td>data/ptbxl/HR09617.mat</td>\n",
       "      <td>1</td>\n",
       "    </tr>\n",
       "    <tr>\n",
       "      <th>21232</th>\n",
       "      <td>data/ptbxl/HR12212.mat</td>\n",
       "      <td>1</td>\n",
       "    </tr>\n",
       "  </tbody>\n",
       "</table>\n",
       "<p>4299 rows × 2 columns</p>\n",
       "</div>"
      ],
      "text/plain": [
       "                    Recording  MI\n",
       "23912  data/ptbxl/HR13179.mat   1\n",
       "27689  data/ptbxl/HR01275.mat   1\n",
       "21803  data/ptbxl/HR15721.mat   1\n",
       "21149  data/ptbxl/HR05444.mat   1\n",
       "33190  data/ptbxl/HR11917.mat   1\n",
       "...                       ...  ..\n",
       "26220  data/ptbxl/HR05219.mat   1\n",
       "38721  data/ptbxl/HR13170.mat   1\n",
       "26698  data/ptbxl/HR12368.mat   1\n",
       "38574  data/ptbxl/HR09617.mat   1\n",
       "21232  data/ptbxl/HR12212.mat   1\n",
       "\n",
       "[4299 rows x 2 columns]"
      ]
     },
     "execution_count": 22,
     "metadata": {},
     "output_type": "execute_result"
    }
   ],
   "source": [
    "mi_train_T = mi_train[mi_train['MI'] == 1]\n",
    "mi_train_T"
   ]
  },
  {
   "cell_type": "code",
   "execution_count": 23,
   "metadata": {},
   "outputs": [
    {
     "data": {
      "text/html": [
       "<div>\n",
       "<style scoped>\n",
       "    .dataframe tbody tr th:only-of-type {\n",
       "        vertical-align: middle;\n",
       "    }\n",
       "\n",
       "    .dataframe tbody tr th {\n",
       "        vertical-align: top;\n",
       "    }\n",
       "\n",
       "    .dataframe thead th {\n",
       "        text-align: right;\n",
       "    }\n",
       "</style>\n",
       "<table border=\"1\" class=\"dataframe\">\n",
       "  <thead>\n",
       "    <tr style=\"text-align: right;\">\n",
       "      <th></th>\n",
       "      <th>Recording</th>\n",
       "      <th>MI</th>\n",
       "    </tr>\n",
       "  </thead>\n",
       "  <tbody>\n",
       "    <tr>\n",
       "      <th>0</th>\n",
       "      <td>data/ptbxl/HR13179.mat</td>\n",
       "      <td>1</td>\n",
       "    </tr>\n",
       "    <tr>\n",
       "      <th>1</th>\n",
       "      <td>data/ptbxl/HR01275.mat</td>\n",
       "      <td>1</td>\n",
       "    </tr>\n",
       "    <tr>\n",
       "      <th>2</th>\n",
       "      <td>data/ptbxl/HR15721.mat</td>\n",
       "      <td>1</td>\n",
       "    </tr>\n",
       "    <tr>\n",
       "      <th>3</th>\n",
       "      <td>data/ptbxl/HR05444.mat</td>\n",
       "      <td>1</td>\n",
       "    </tr>\n",
       "    <tr>\n",
       "      <th>4</th>\n",
       "      <td>data/ptbxl/HR11917.mat</td>\n",
       "      <td>1</td>\n",
       "    </tr>\n",
       "    <tr>\n",
       "      <th>...</th>\n",
       "      <td>...</td>\n",
       "      <td>...</td>\n",
       "    </tr>\n",
       "    <tr>\n",
       "      <th>47284</th>\n",
       "      <td>data/ptbxl/HR05219.mat</td>\n",
       "      <td>1</td>\n",
       "    </tr>\n",
       "    <tr>\n",
       "      <th>47285</th>\n",
       "      <td>data/ptbxl/HR13170.mat</td>\n",
       "      <td>1</td>\n",
       "    </tr>\n",
       "    <tr>\n",
       "      <th>47286</th>\n",
       "      <td>data/ptbxl/HR12368.mat</td>\n",
       "      <td>1</td>\n",
       "    </tr>\n",
       "    <tr>\n",
       "      <th>47287</th>\n",
       "      <td>data/ptbxl/HR09617.mat</td>\n",
       "      <td>1</td>\n",
       "    </tr>\n",
       "    <tr>\n",
       "      <th>47288</th>\n",
       "      <td>data/ptbxl/HR12212.mat</td>\n",
       "      <td>1</td>\n",
       "    </tr>\n",
       "  </tbody>\n",
       "</table>\n",
       "<p>47289 rows × 2 columns</p>\n",
       "</div>"
      ],
      "text/plain": [
       "                    Recording  MI\n",
       "0      data/ptbxl/HR13179.mat   1\n",
       "1      data/ptbxl/HR01275.mat   1\n",
       "2      data/ptbxl/HR15721.mat   1\n",
       "3      data/ptbxl/HR05444.mat   1\n",
       "4      data/ptbxl/HR11917.mat   1\n",
       "...                       ...  ..\n",
       "47284  data/ptbxl/HR05219.mat   1\n",
       "47285  data/ptbxl/HR13170.mat   1\n",
       "47286  data/ptbxl/HR12368.mat   1\n",
       "47287  data/ptbxl/HR09617.mat   1\n",
       "47288  data/ptbxl/HR12212.mat   1\n",
       "\n",
       "[47289 rows x 2 columns]"
      ]
     },
     "execution_count": 23,
     "metadata": {},
     "output_type": "execute_result"
    }
   ],
   "source": [
    "# increase positive afl examples to reduce class imbalance\n",
    "for i in range(10):\n",
    "    mi_train_T = pd.concat([mi_train_T, mi_train[mi_train['MI'] == 1]], ignore_index=True)\n",
    "mi_train_T"
   ]
  },
  {
   "cell_type": "code",
   "execution_count": 26,
   "metadata": {},
   "outputs": [
    {
     "data": {
      "text/html": [
       "<div>\n",
       "<style scoped>\n",
       "    .dataframe tbody tr th:only-of-type {\n",
       "        vertical-align: middle;\n",
       "    }\n",
       "\n",
       "    .dataframe tbody tr th {\n",
       "        vertical-align: top;\n",
       "    }\n",
       "\n",
       "    .dataframe thead th {\n",
       "        text-align: right;\n",
       "    }\n",
       "</style>\n",
       "<table border=\"1\" class=\"dataframe\">\n",
       "  <thead>\n",
       "    <tr style=\"text-align: right;\">\n",
       "      <th></th>\n",
       "      <th>Recording</th>\n",
       "      <th>MI</th>\n",
       "    </tr>\n",
       "  </thead>\n",
       "  <tbody>\n",
       "    <tr>\n",
       "      <th>0</th>\n",
       "      <td>data/georgia/E01477.mat</td>\n",
       "      <td>0</td>\n",
       "    </tr>\n",
       "    <tr>\n",
       "      <th>1</th>\n",
       "      <td>data/ptbxl/HR08587.mat</td>\n",
       "      <td>1</td>\n",
       "    </tr>\n",
       "    <tr>\n",
       "      <th>2</th>\n",
       "      <td>data/chapman/JS07851.mat</td>\n",
       "      <td>0</td>\n",
       "    </tr>\n",
       "    <tr>\n",
       "      <th>3</th>\n",
       "      <td>data/ptbxl/HR06450.mat</td>\n",
       "      <td>1</td>\n",
       "    </tr>\n",
       "    <tr>\n",
       "      <th>4</th>\n",
       "      <td>data/chapman/JS02616.mat</td>\n",
       "      <td>0</td>\n",
       "    </tr>\n",
       "    <tr>\n",
       "      <th>...</th>\n",
       "      <td>...</td>\n",
       "      <td>...</td>\n",
       "    </tr>\n",
       "    <tr>\n",
       "      <th>109338</th>\n",
       "      <td>data/ningbo/JS22822.mat</td>\n",
       "      <td>0</td>\n",
       "    </tr>\n",
       "    <tr>\n",
       "      <th>109339</th>\n",
       "      <td>data/ningbo/JS39695.mat</td>\n",
       "      <td>0</td>\n",
       "    </tr>\n",
       "    <tr>\n",
       "      <th>109340</th>\n",
       "      <td>data/ningbo/JS22442.mat</td>\n",
       "      <td>0</td>\n",
       "    </tr>\n",
       "    <tr>\n",
       "      <th>109341</th>\n",
       "      <td>data/ptbxl/HR12169.mat</td>\n",
       "      <td>1</td>\n",
       "    </tr>\n",
       "    <tr>\n",
       "      <th>109342</th>\n",
       "      <td>data/ptbxl/HR08693.mat</td>\n",
       "      <td>1</td>\n",
       "    </tr>\n",
       "  </tbody>\n",
       "</table>\n",
       "<p>109343 rows × 2 columns</p>\n",
       "</div>"
      ],
      "text/plain": [
       "                       Recording  MI\n",
       "0        data/georgia/E01477.mat   0\n",
       "1         data/ptbxl/HR08587.mat   1\n",
       "2       data/chapman/JS07851.mat   0\n",
       "3         data/ptbxl/HR06450.mat   1\n",
       "4       data/chapman/JS02616.mat   0\n",
       "...                          ...  ..\n",
       "109338   data/ningbo/JS22822.mat   0\n",
       "109339   data/ningbo/JS39695.mat   0\n",
       "109340   data/ningbo/JS22442.mat   0\n",
       "109341    data/ptbxl/HR12169.mat   1\n",
       "109342    data/ptbxl/HR08693.mat   1\n",
       "\n",
       "[109343 rows x 2 columns]"
      ]
     },
     "execution_count": 26,
     "metadata": {},
     "output_type": "execute_result"
    }
   ],
   "source": [
    "mi_train = pd.concat([mi_train_T, mi_train_F], ignore_index=True)\n",
    "mi_train = mi_train.sample(frac=1).reset_index(drop=True)\n",
    "mi_train"
   ]
  },
  {
   "cell_type": "code",
   "execution_count": 27,
   "metadata": {},
   "outputs": [
    {
     "data": {
      "text/plain": [
       "array(['data/georgia/E01477.mat', 'data/ptbxl/HR08587.mat',\n",
       "       'data/chapman/JS07851.mat', ..., 'data/ningbo/JS22442.mat',\n",
       "       'data/ptbxl/HR12169.mat', 'data/ptbxl/HR08693.mat'], dtype=object)"
      ]
     },
     "execution_count": 27,
     "metadata": {},
     "output_type": "execute_result"
    }
   ],
   "source": [
    "x_train = np.array(mi_train['Recording'])\n",
    "x_train"
   ]
  },
  {
   "cell_type": "code",
   "execution_count": 28,
   "metadata": {
    "colab": {
     "base_uri": "https://localhost:8080/"
    },
    "executionInfo": {
     "elapsed": 413,
     "status": "ok",
     "timestamp": 1627707962542,
     "user": {
      "displayName": "Biotrack Software",
      "photoUrl": "",
      "userId": "16396993350817110528"
     },
     "user_tz": -480
    },
    "id": "neXHKhqvTQPt",
    "outputId": "97baaf71-06f1-4472-82cd-83dd9c9d3d64"
   },
   "outputs": [
    {
     "data": {
      "text/plain": [
       "(109343, 1)"
      ]
     },
     "execution_count": 28,
     "metadata": {},
     "output_type": "execute_result"
    }
   ],
   "source": [
    "y_train = np.array(mi_train[['MI']])\n",
    "y_train.shape"
   ]
  },
  {
   "cell_type": "code",
   "execution_count": 29,
   "metadata": {
    "colab": {
     "base_uri": "https://localhost:8080/"
    },
    "executionInfo": {
     "elapsed": 412,
     "status": "ok",
     "timestamp": 1627707976263,
     "user": {
      "displayName": "Biotrack Software",
      "photoUrl": "",
      "userId": "16396993350817110528"
     },
     "user_tz": -480
    },
    "id": "qKygVLgV8yhr",
    "outputId": "c3f76f9c-f965-48cc-937b-e2b9318381e0"
   },
   "outputs": [
    {
     "data": {
      "text/plain": [
       "array(['data/ningbo/JS25106.mat', 'data/ptbxl/HR11970.mat',\n",
       "       'data/ningbo/JS33102.mat', ..., 'data/chapman/JS08588.mat',\n",
       "       'data/chapman/JS07155.mat', 'data/chapman/JS02694.mat'],\n",
       "      dtype=object)"
      ]
     },
     "execution_count": 29,
     "metadata": {},
     "output_type": "execute_result"
    }
   ],
   "source": [
    "x_val = np.array(val_df['Recording'])\n",
    "x_val"
   ]
  },
  {
   "cell_type": "code",
   "execution_count": 30,
   "metadata": {
    "colab": {
     "base_uri": "https://localhost:8080/"
    },
    "executionInfo": {
     "elapsed": 416,
     "status": "ok",
     "timestamp": 1627708075387,
     "user": {
      "displayName": "Biotrack Software",
      "photoUrl": "",
      "userId": "16396993350817110528"
     },
     "user_tz": -480
    },
    "id": "lJVCDWAI84lI",
    "outputId": "3912342a-8f52-4643-f6ee-2285117ea1af"
   },
   "outputs": [
    {
     "data": {
      "text/plain": [
       "(16589, 1)"
      ]
     },
     "execution_count": 30,
     "metadata": {},
     "output_type": "execute_result"
    }
   ],
   "source": [
    "y_val = np.array(val_df[['MI']])\n",
    "y_val.shape"
   ]
  },
  {
   "cell_type": "markdown",
   "metadata": {
    "id": "E60m_sIivzML"
   },
   "source": [
    "## Dataset Prep"
   ]
  },
  {
   "cell_type": "code",
   "execution_count": 31,
   "metadata": {},
   "outputs": [
    {
     "name": "stdout",
     "output_type": "stream",
     "text": [
      "2.4.2\n"
     ]
    }
   ],
   "source": [
    "import tensorflow as tf\n",
    "print(tf.__version__)"
   ]
  },
  {
   "cell_type": "code",
   "execution_count": 32,
   "metadata": {
    "id": "vZAoLttUd_xd"
   },
   "outputs": [],
   "source": [
    "scaler = StandardScaler()"
   ]
  },
  {
   "cell_type": "code",
   "execution_count": 33,
   "metadata": {
    "id": "RRU-s8rveFbU"
   },
   "outputs": [],
   "source": [
    "def get_ecg(filename, label):\n",
    "    def process_mat(filename):\n",
    "        recording = load_recording(filename)\n",
    "        recording = recording.astype(np.float32).T\n",
    "        recording = recording[0:5000:2] # resample to 250Hz\n",
    "        recording = scaler.fit_transform(recording) # Normalize\n",
    "        lead = recording.T\n",
    "        \n",
    "        # Random number from 1 to 6. \n",
    "        # 2, 3, 4 will have augmentations, 1, 5, 6, will be original\n",
    "        lead = augment_leads(lead, np.random.randint(1, 7))\n",
    "        \n",
    "        channels = []\n",
    "        channels.append(np.concatenate((lead[0][:625], lead[3][625:1250], lead[6][1250:1875], lead[9][1875:])))\n",
    "        channels.append(np.concatenate((lead[1][:625], lead[4][625:1250], lead[7][1250:1875], lead[10][1875:])))\n",
    "        channels.append(np.concatenate((lead[2][:625], lead[5][625:1250], lead[8][1250:1875], lead[11][1875:])))\n",
    "        channels.append(lead[1])\n",
    "        channels = np.array(channels)\n",
    "        \n",
    "        return channels.astype(np.float32).T\n",
    "        \n",
    "    recording = tf.numpy_function(process_mat, [filename], [tf.float32])\n",
    "    recording = tf.reshape(recording, (2500, 4))\n",
    "\n",
    "    return recording, label"
   ]
  },
  {
   "cell_type": "code",
   "execution_count": 34,
   "metadata": {},
   "outputs": [],
   "source": [
    "def get_val(filename, label):\n",
    "    def process_mat(filename):\n",
    "        recording = load_recording(filename)\n",
    "        recording = recording.astype(np.float32).T\n",
    "        recording = recording[0:5000:2] # resample to 250Hz\n",
    "        recording = scaler.fit_transform(recording) # Normalize\n",
    "        lead = recording.T\n",
    "        \n",
    "        channels = []\n",
    "        channels.append(np.concatenate((lead[0][:625], lead[3][625:1250], lead[6][1250:1875], lead[9][1875:])))\n",
    "        channels.append(np.concatenate((lead[1][:625], lead[4][625:1250], lead[7][1250:1875], lead[10][1875:])))\n",
    "        channels.append(np.concatenate((lead[2][:625], lead[5][625:1250], lead[8][1250:1875], lead[11][1875:])))\n",
    "        channels.append(lead[1])\n",
    "        channels = np.array(channels)\n",
    "        \n",
    "        return channels.T\n",
    "        \n",
    "    recording = tf.numpy_function(process_mat, [filename], [tf.float32])\n",
    "    recording = tf.reshape(recording, (2500, 4))\n",
    "\n",
    "    return recording, label"
   ]
  },
  {
   "cell_type": "code",
   "execution_count": 35,
   "metadata": {
    "id": "hTo_Ue5Zv1Jd"
   },
   "outputs": [],
   "source": [
    "train_dataset = tf.data.Dataset.from_tensor_slices((x_train, y_train))\n",
    "train_dataset = train_dataset.map(get_ecg)\n",
    "train_dataset = train_dataset.shuffle(5000)\n",
    "train_dataset = train_dataset.repeat()\n",
    "train_dataset = train_dataset.batch(64, drop_remainder=True)"
   ]
  },
  {
   "cell_type": "code",
   "execution_count": null,
   "metadata": {},
   "outputs": [],
   "source": [
    "val_dataset = tf.data.Dataset.from_tensor_slices((x_val, y_val))\n",
    "val_dataset = val_dataset.map(get_val)\n",
    "val_dataset = val_dataset.repeat()\n",
    "val_dataset = val_dataset.batch(64, drop_remainder=True)"
   ]
  },
  {
   "cell_type": "code",
   "execution_count": 37,
   "metadata": {
    "colab": {
     "base_uri": "https://localhost:8080/"
    },
    "executionInfo": {
     "elapsed": 4,
     "status": "ok",
     "timestamp": 1627708080102,
     "user": {
      "displayName": "Biotrack Software",
      "photoUrl": "",
      "userId": "16396993350817110528"
     },
     "user_tz": -480
    },
    "id": "JQmtC-8-w3vD",
    "outputId": "c9bfec6a-a932-404e-a7f0-86c23fa8dc22",
    "scrolled": true
   },
   "outputs": [
    {
     "data": {
      "text/plain": [
       "(<BatchDataset shapes: ((64, 2500, 4), (64, 1)), types: (tf.float32, tf.int64)>,\n",
       " <BatchDataset shapes: ((64, 2500, 4), (64, 1)), types: (tf.float32, tf.int64)>)"
      ]
     },
     "execution_count": 37,
     "metadata": {},
     "output_type": "execute_result"
    }
   ],
   "source": [
    "train_dataset, val_dataset"
   ]
  },
  {
   "cell_type": "code",
   "execution_count": 38,
   "metadata": {
    "id": "Bzh90Ob0fXCi"
   },
   "outputs": [
    {
     "name": "stdout",
     "output_type": "stream",
     "text": [
      "batch:  1\n",
      "Data shape:  (64, 2500, 4) (64, 1)\n",
      "time elapsed: 112.78498458862305\n"
     ]
    }
   ],
   "source": [
    "start = time.time()\n",
    "\n",
    "for batch, (x, y) in enumerate(train_dataset):\n",
    "    if batch > 0:\n",
    "        break\n",
    "print(\"batch: \", batch)\n",
    "print(\"Data shape: \", x.shape, y.shape)\n",
    "\n",
    "stop = time.time()\n",
    "print(\"time elapsed: {}\".format(stop - start))"
   ]
  },
  {
   "cell_type": "code",
   "execution_count": 39,
   "metadata": {},
   "outputs": [],
   "source": [
    "ecg = x[5].numpy()\n",
    "ecg = ecg.T"
   ]
  },
  {
   "cell_type": "code",
   "execution_count": 40,
   "metadata": {},
   "outputs": [
    {
     "data": {
      "text/plain": [
       "[<matplotlib.lines.Line2D at 0x7fda00785450>]"
      ]
     },
     "execution_count": 40,
     "metadata": {},
     "output_type": "execute_result"
    },
    {
     "data": {
      "image/png": "[encoded data removed]",
      "text/plain": [
       "<Figure size 1440x216 with 1 Axes>"
      ]
     },
     "metadata": {
      "needs_background": "light"
     },
     "output_type": "display_data"
    },
    {
     "data": {
      "image/png": "[encoded data removed]",
      "text/plain": [
       "<Figure size 1440x216 with 1 Axes>"
      ]
     },
     "metadata": {
      "needs_background": "light"
     },
     "output_type": "display_data"
    },
    {
     "data": {
      "image/png": "[encoded data removed]",
      "text/plain": [
       "<Figure size 1440x216 with 1 Axes>"
      ]
     },
     "metadata": {
      "needs_background": "light"
     },
     "output_type": "display_data"
    },
    {
     "data": {
      "image/png": "[encoded data removed]",
      "text/plain": [
       "<Figure size 1440x216 with 1 Axes>"
      ]
     },
     "metadata": {
      "needs_background": "light"
     },
     "output_type": "display_data"
    }
   ],
   "source": [
    "# Visualise the output data from the tf.Dataset\n",
    "\n",
    "plt.figure(figsize=(20,3))\n",
    "plt.plot(list(range(len(ecg[0]))), ecg[0])\n",
    "\n",
    "plt.figure(figsize=(20,3))\n",
    "plt.plot(list(range(len(ecg[1]))), ecg[1])\n",
    "\n",
    "plt.figure(figsize=(20,3))\n",
    "plt.plot(list(range(len(ecg[2]))), ecg[2])\n",
    "\n",
    "plt.figure(figsize=(20,3))\n",
    "plt.plot(list(range(len(ecg[3]))), ecg[3])"
   ]
  },
  {
   "cell_type": "markdown",
   "metadata": {
    "id": "TpVdaqLbvu0_"
   },
   "source": [
    "## CNN Resnet Construction and Training"
   ]
  },
  {
   "cell_type": "code",
   "execution_count": 42,
   "metadata": {
    "colab": {
     "base_uri": "https://localhost:8080/"
    },
    "executionInfo": {
     "elapsed": 444,
     "status": "ok",
     "timestamp": 1627708255913,
     "user": {
      "displayName": "Biotrack Software",
      "photoUrl": "",
      "userId": "16396993350817110528"
     },
     "user_tz": -480
    },
    "id": "lycjzGLyvyya",
    "outputId": "549b27ca-ea9d-4382-cc4b-75ae3847b40e"
   },
   "outputs": [],
   "source": [
    "from tensorflow.keras.layers import Input, Dense, Conv1D, BatchNormalization\n",
    "from tensorflow.keras.layers import ReLU, Add, MaxPool1D, GlobalAvgPool1D, Dropout\n",
    "from tensorflow.keras.models import Model\n",
    "from tensorflow.keras.regularizers import l2"
   ]
  },
  {
   "cell_type": "code",
   "execution_count": 43,
   "metadata": {
    "id": "FfWg9Ovzw-b5"
   },
   "outputs": [],
   "source": [
    "def Conv_BatchNorm(x, filters, kernel_size, strides):\n",
    "    x = Conv1D(filters=filters, kernel_size=kernel_size, strides=strides, padding='same', kernel_regularizer=l2(0.03))(x)\n",
    "    x = BatchNormalization()(x)\n",
    "    x = ReLU()(x)\n",
    "    x = Dropout(0.5)(x)\n",
    "    return x"
   ]
  },
  {
   "cell_type": "code",
   "execution_count": 44,
   "metadata": {
    "id": "x-fHHoRQxAuN"
   },
   "outputs": [],
   "source": [
    "def identity_block(orig_x, num_filters):\n",
    "    x = Conv_BatchNorm(orig_x, filters=num_filters, kernel_size=5, strides=1)\n",
    "    x = Conv_BatchNorm(x, filters=num_filters, kernel_size=5, strides=1)\n",
    "    x = Conv1D(filters=4*num_filters, kernel_size=1, strides=1, kernel_regularizer=l2(0.03))(x)  # notice: filters=4*num_filters\n",
    "    x = BatchNormalization()(x)\n",
    " \n",
    "    x = Add()([x, orig_x])\n",
    "    x = ReLU()(x)\n",
    "    x = Dropout(0.5)(x)\n",
    "    return x"
   ]
  },
  {
   "cell_type": "code",
   "execution_count": 45,
   "metadata": {
    "id": "ruu4_wDO-nv8"
   },
   "outputs": [],
   "source": [
    "def projection_block(tensor, num_filters, strides):\n",
    "    # left stream\n",
    "    x = Conv_BatchNorm(tensor, filters=num_filters, kernel_size=5, strides=strides) #[v]\n",
    "    x = Conv_BatchNorm(x, filters=num_filters, kernel_size=5, strides=1)\n",
    "    x = Conv1D(filters=4*num_filters, kernel_size=1, strides=1, kernel_regularizer=l2(0.03))(x)  # notice: filters=4*num_filters\n",
    "    x = BatchNormalization()(x)\n",
    " \n",
    "    # right stream\n",
    "    proj_x = Conv1D(filters=4*num_filters, kernel_size=1, strides=strides, kernel_regularizer=l2(0.03))(tensor)  # notice: filters=4*num_filters\n",
    "    proj_x = BatchNormalization()(proj_x)\n",
    " \n",
    "    x = Add()([x, proj_x])\n",
    "    x = ReLU()(x)\n",
    "    x = Dropout(0.5)(x)\n",
    "    return x"
   ]
  },
  {
   "cell_type": "code",
   "execution_count": 46,
   "metadata": {
    "id": "-NvCFVDT-3do"
   },
   "outputs": [],
   "source": [
    "def resnet_block(x, filters, reps, strides):\n",
    "    x = projection_block(x, num_filters=filters, strides=strides)\n",
    "    for _ in range(reps-1):\n",
    "        x = identity_block(x, num_filters=filters)\n",
    "    return x"
   ]
  },
  {
   "cell_type": "code",
   "execution_count": null,
   "metadata": {},
   "outputs": [],
   "source": [
    "Inp = Input(shape=(2500, 4),name=\"Inp\")\n",
    " \n",
    "x = Conv_BatchNorm(Inp, filters=128, kernel_size=11, strides=2)  \n",
    "x = MaxPool1D(pool_size=5, strides=2, padding='same')(x)\n",
    " \n",
    "x = resnet_block(x, filters=128, reps=2, strides=1)\n",
    "x = resnet_block(x, filters=256, reps=2, strides=2)\n",
    "x = resnet_block(x, filters=512, reps=2, strides=2)\n",
    "x = resnet_block(x, filters=1024, reps=1, strides=2) \n",
    " \n",
    "x = GlobalAvgPool1D()(x)\n",
    "x = Dropout(0.5)(x)\n",
    "x = Dense(512, activation='relu')(x)\n",
    "x = Dropout(0.5)(x)\n",
    "x = Dense(128, activation='relu')(x)\n",
    "x = Dropout(0.4)(x)\n",
    "output = Dense(1, activation='sigmoid')(x)\n",
    " \n",
    "model = Model(Inp, output, name='simple-res')"
   ]
  },
  {
   "cell_type": "code",
   "execution_count": 48,
   "metadata": {
    "colab": {
     "base_uri": "https://localhost:8080/"
    },
    "executionInfo": {
     "elapsed": 390,
     "status": "ok",
     "timestamp": 1627708554007,
     "user": {
      "displayName": "Biotrack Software",
      "photoUrl": "",
      "userId": "16396993350817110528"
     },
     "user_tz": -480
    },
    "id": "FXVIw-iczKem",
    "outputId": "641d115f-00a7-4e0a-d870-16102ef85055",
    "scrolled": false
   },
   "outputs": [
    {
     "name": "stdout",
     "output_type": "stream",
     "text": [
      "Model: \"simple-res\"\n",
      "__________________________________________________________________________________________________\n",
      "Layer (type)                    Output Shape         Param #     Connected to                     \n",
      "==================================================================================================\n",
      "Inp (InputLayer)                [(None, 2500, 4)]    0                                            \n",
      "__________________________________________________________________________________________________\n",
      "conv1d (Conv1D)                 (None, 1250, 128)    5760        Inp[0][0]                        \n",
      "__________________________________________________________________________________________________\n",
      "batch_normalization (BatchNorma (None, 1250, 128)    512         conv1d[0][0]                     \n",
      "__________________________________________________________________________________________________\n",
      "re_lu (ReLU)                    (None, 1250, 128)    0           batch_normalization[0][0]        \n",
      "__________________________________________________________________________________________________\n",
      "dropout (Dropout)               (None, 1250, 128)    0           re_lu[0][0]                      \n",
      "__________________________________________________________________________________________________\n",
      "max_pooling1d (MaxPooling1D)    (None, 625, 128)     0           dropout[0][0]                    \n",
      "__________________________________________________________________________________________________\n",
      "conv1d_1 (Conv1D)               (None, 625, 128)     82048       max_pooling1d[0][0]              \n",
      "__________________________________________________________________________________________________\n",
      "batch_normalization_1 (BatchNor (None, 625, 128)     512         conv1d_1[0][0]                   \n",
      "__________________________________________________________________________________________________\n",
      "re_lu_1 (ReLU)                  (None, 625, 128)     0           batch_normalization_1[0][0]      \n",
      "__________________________________________________________________________________________________\n",
      "dropout_1 (Dropout)             (None, 625, 128)     0           re_lu_1[0][0]                    \n",
      "__________________________________________________________________________________________________\n",
      "conv1d_2 (Conv1D)               (None, 625, 128)     82048       dropout_1[0][0]                  \n",
      "__________________________________________________________________________________________________\n",
      "batch_normalization_2 (BatchNor (None, 625, 128)     512         conv1d_2[0][0]                   \n",
      "__________________________________________________________________________________________________\n",
      "re_lu_2 (ReLU)                  (None, 625, 128)     0           batch_normalization_2[0][0]      \n",
      "__________________________________________________________________________________________________\n",
      "dropout_2 (Dropout)             (None, 625, 128)     0           re_lu_2[0][0]                    \n",
      "__________________________________________________________________________________________________\n",
      "conv1d_3 (Conv1D)               (None, 625, 512)     66048       dropout_2[0][0]                  \n",
      "__________________________________________________________________________________________________\n",
      "conv1d_4 (Conv1D)               (None, 625, 512)     66048       max_pooling1d[0][0]              \n",
      "__________________________________________________________________________________________________\n",
      "batch_normalization_3 (BatchNor (None, 625, 512)     2048        conv1d_3[0][0]                   \n",
      "__________________________________________________________________________________________________\n",
      "batch_normalization_4 (BatchNor (None, 625, 512)     2048        conv1d_4[0][0]                   \n",
      "__________________________________________________________________________________________________\n",
      "add (Add)                       (None, 625, 512)     0           batch_normalization_3[0][0]      \n",
      "                                                                 batch_normalization_4[0][0]      \n",
      "__________________________________________________________________________________________________\n",
      "re_lu_3 (ReLU)                  (None, 625, 512)     0           add[0][0]                        \n",
      "__________________________________________________________________________________________________\n",
      "dropout_3 (Dropout)             (None, 625, 512)     0           re_lu_3[0][0]                    \n",
      "__________________________________________________________________________________________________\n",
      "conv1d_5 (Conv1D)               (None, 625, 128)     327808      dropout_3[0][0]                  \n",
      "__________________________________________________________________________________________________\n",
      "batch_normalization_5 (BatchNor (None, 625, 128)     512         conv1d_5[0][0]                   \n",
      "__________________________________________________________________________________________________\n",
      "re_lu_4 (ReLU)                  (None, 625, 128)     0           batch_normalization_5[0][0]      \n",
      "__________________________________________________________________________________________________\n",
      "dropout_4 (Dropout)             (None, 625, 128)     0           re_lu_4[0][0]                    \n",
      "__________________________________________________________________________________________________\n",
      "conv1d_6 (Conv1D)               (None, 625, 128)     82048       dropout_4[0][0]                  \n",
      "__________________________________________________________________________________________________\n",
      "batch_normalization_6 (BatchNor (None, 625, 128)     512         conv1d_6[0][0]                   \n",
      "__________________________________________________________________________________________________\n",
      "re_lu_5 (ReLU)                  (None, 625, 128)     0           batch_normalization_6[0][0]      \n",
      "__________________________________________________________________________________________________\n",
      "dropout_5 (Dropout)             (None, 625, 128)     0           re_lu_5[0][0]                    \n",
      "__________________________________________________________________________________________________\n",
      "conv1d_7 (Conv1D)               (None, 625, 512)     66048       dropout_5[0][0]                  \n",
      "__________________________________________________________________________________________________\n",
      "batch_normalization_7 (BatchNor (None, 625, 512)     2048        conv1d_7[0][0]                   \n",
      "__________________________________________________________________________________________________\n",
      "add_1 (Add)                     (None, 625, 512)     0           batch_normalization_7[0][0]      \n",
      "                                                                 dropout_3[0][0]                  \n",
      "__________________________________________________________________________________________________\n",
      "re_lu_6 (ReLU)                  (None, 625, 512)     0           add_1[0][0]                      \n",
      "__________________________________________________________________________________________________\n",
      "dropout_6 (Dropout)             (None, 625, 512)     0           re_lu_6[0][0]                    \n",
      "__________________________________________________________________________________________________\n",
      "conv1d_8 (Conv1D)               (None, 313, 256)     655616      dropout_6[0][0]                  \n",
      "__________________________________________________________________________________________________\n",
      "batch_normalization_8 (BatchNor (None, 313, 256)     1024        conv1d_8[0][0]                   \n",
      "__________________________________________________________________________________________________\n",
      "re_lu_7 (ReLU)                  (None, 313, 256)     0           batch_normalization_8[0][0]      \n",
      "__________________________________________________________________________________________________\n",
      "dropout_7 (Dropout)             (None, 313, 256)     0           re_lu_7[0][0]                    \n",
      "__________________________________________________________________________________________________\n",
      "conv1d_9 (Conv1D)               (None, 313, 256)     327936      dropout_7[0][0]                  \n",
      "__________________________________________________________________________________________________\n",
      "batch_normalization_9 (BatchNor (None, 313, 256)     1024        conv1d_9[0][0]                   \n",
      "__________________________________________________________________________________________________\n",
      "re_lu_8 (ReLU)                  (None, 313, 256)     0           batch_normalization_9[0][0]      \n",
      "__________________________________________________________________________________________________\n",
      "dropout_8 (Dropout)             (None, 313, 256)     0           re_lu_8[0][0]                    \n",
      "__________________________________________________________________________________________________\n",
      "conv1d_10 (Conv1D)              (None, 313, 1024)    263168      dropout_8[0][0]                  \n",
      "__________________________________________________________________________________________________\n",
      "conv1d_11 (Conv1D)              (None, 313, 1024)    525312      dropout_6[0][0]                  \n",
      "__________________________________________________________________________________________________\n",
      "batch_normalization_10 (BatchNo (None, 313, 1024)    4096        conv1d_10[0][0]                  \n",
      "__________________________________________________________________________________________________\n",
      "batch_normalization_11 (BatchNo (None, 313, 1024)    4096        conv1d_11[0][0]                  \n",
      "__________________________________________________________________________________________________\n",
      "add_2 (Add)                     (None, 313, 1024)    0           batch_normalization_10[0][0]     \n",
      "                                                                 batch_normalization_11[0][0]     \n",
      "__________________________________________________________________________________________________\n",
      "re_lu_9 (ReLU)                  (None, 313, 1024)    0           add_2[0][0]                      \n",
      "__________________________________________________________________________________________________\n",
      "dropout_9 (Dropout)             (None, 313, 1024)    0           re_lu_9[0][0]                    \n",
      "__________________________________________________________________________________________________\n",
      "conv1d_12 (Conv1D)              (None, 313, 256)     1310976     dropout_9[0][0]                  \n",
      "__________________________________________________________________________________________________\n",
      "batch_normalization_12 (BatchNo (None, 313, 256)     1024        conv1d_12[0][0]                  \n",
      "__________________________________________________________________________________________________\n",
      "re_lu_10 (ReLU)                 (None, 313, 256)     0           batch_normalization_12[0][0]     \n",
      "__________________________________________________________________________________________________\n",
      "dropout_10 (Dropout)            (None, 313, 256)     0           re_lu_10[0][0]                   \n",
      "__________________________________________________________________________________________________\n",
      "conv1d_13 (Conv1D)              (None, 313, 256)     327936      dropout_10[0][0]                 \n",
      "__________________________________________________________________________________________________\n",
      "batch_normalization_13 (BatchNo (None, 313, 256)     1024        conv1d_13[0][0]                  \n",
      "__________________________________________________________________________________________________\n",
      "re_lu_11 (ReLU)                 (None, 313, 256)     0           batch_normalization_13[0][0]     \n",
      "__________________________________________________________________________________________________\n",
      "dropout_11 (Dropout)            (None, 313, 256)     0           re_lu_11[0][0]                   \n",
      "__________________________________________________________________________________________________\n",
      "conv1d_14 (Conv1D)              (None, 313, 1024)    263168      dropout_11[0][0]                 \n",
      "__________________________________________________________________________________________________\n",
      "batch_normalization_14 (BatchNo (None, 313, 1024)    4096        conv1d_14[0][0]                  \n",
      "__________________________________________________________________________________________________\n",
      "add_3 (Add)                     (None, 313, 1024)    0           batch_normalization_14[0][0]     \n",
      "                                                                 dropout_9[0][0]                  \n",
      "__________________________________________________________________________________________________\n",
      "re_lu_12 (ReLU)                 (None, 313, 1024)    0           add_3[0][0]                      \n",
      "__________________________________________________________________________________________________\n",
      "dropout_12 (Dropout)            (None, 313, 1024)    0           re_lu_12[0][0]                   \n",
      "__________________________________________________________________________________________________\n",
      "conv1d_15 (Conv1D)              (None, 157, 512)     2621952     dropout_12[0][0]                 \n",
      "__________________________________________________________________________________________________\n",
      "batch_normalization_15 (BatchNo (None, 157, 512)     2048        conv1d_15[0][0]                  \n",
      "__________________________________________________________________________________________________\n",
      "re_lu_13 (ReLU)                 (None, 157, 512)     0           batch_normalization_15[0][0]     \n",
      "__________________________________________________________________________________________________\n",
      "dropout_13 (Dropout)            (None, 157, 512)     0           re_lu_13[0][0]                   \n",
      "__________________________________________________________________________________________________\n",
      "conv1d_16 (Conv1D)              (None, 157, 512)     1311232     dropout_13[0][0]                 \n",
      "__________________________________________________________________________________________________\n",
      "batch_normalization_16 (BatchNo (None, 157, 512)     2048        conv1d_16[0][0]                  \n",
      "__________________________________________________________________________________________________\n",
      "re_lu_14 (ReLU)                 (None, 157, 512)     0           batch_normalization_16[0][0]     \n",
      "__________________________________________________________________________________________________\n",
      "dropout_14 (Dropout)            (None, 157, 512)     0           re_lu_14[0][0]                   \n",
      "__________________________________________________________________________________________________\n",
      "conv1d_17 (Conv1D)              (None, 157, 2048)    1050624     dropout_14[0][0]                 \n",
      "__________________________________________________________________________________________________\n",
      "conv1d_18 (Conv1D)              (None, 157, 2048)    2099200     dropout_12[0][0]                 \n",
      "__________________________________________________________________________________________________\n",
      "batch_normalization_17 (BatchNo (None, 157, 2048)    8192        conv1d_17[0][0]                  \n",
      "__________________________________________________________________________________________________\n",
      "batch_normalization_18 (BatchNo (None, 157, 2048)    8192        conv1d_18[0][0]                  \n",
      "__________________________________________________________________________________________________\n",
      "add_4 (Add)                     (None, 157, 2048)    0           batch_normalization_17[0][0]     \n",
      "                                                                 batch_normalization_18[0][0]     \n",
      "__________________________________________________________________________________________________\n",
      "re_lu_15 (ReLU)                 (None, 157, 2048)    0           add_4[0][0]                      \n",
      "__________________________________________________________________________________________________\n",
      "dropout_15 (Dropout)            (None, 157, 2048)    0           re_lu_15[0][0]                   \n",
      "__________________________________________________________________________________________________\n",
      "conv1d_19 (Conv1D)              (None, 157, 512)     5243392     dropout_15[0][0]                 \n",
      "__________________________________________________________________________________________________\n",
      "batch_normalization_19 (BatchNo (None, 157, 512)     2048        conv1d_19[0][0]                  \n",
      "__________________________________________________________________________________________________\n",
      "re_lu_16 (ReLU)                 (None, 157, 512)     0           batch_normalization_19[0][0]     \n",
      "__________________________________________________________________________________________________\n",
      "dropout_16 (Dropout)            (None, 157, 512)     0           re_lu_16[0][0]                   \n",
      "__________________________________________________________________________________________________\n",
      "conv1d_20 (Conv1D)              (None, 157, 512)     1311232     dropout_16[0][0]                 \n",
      "__________________________________________________________________________________________________\n",
      "batch_normalization_20 (BatchNo (None, 157, 512)     2048        conv1d_20[0][0]                  \n",
      "__________________________________________________________________________________________________\n",
      "re_lu_17 (ReLU)                 (None, 157, 512)     0           batch_normalization_20[0][0]     \n",
      "__________________________________________________________________________________________________\n",
      "dropout_17 (Dropout)            (None, 157, 512)     0           re_lu_17[0][0]                   \n",
      "__________________________________________________________________________________________________\n",
      "conv1d_21 (Conv1D)              (None, 157, 2048)    1050624     dropout_17[0][0]                 \n",
      "__________________________________________________________________________________________________\n",
      "batch_normalization_21 (BatchNo (None, 157, 2048)    8192        conv1d_21[0][0]                  \n",
      "__________________________________________________________________________________________________\n",
      "add_5 (Add)                     (None, 157, 2048)    0           batch_normalization_21[0][0]     \n",
      "                                                                 dropout_15[0][0]                 \n",
      "__________________________________________________________________________________________________\n",
      "re_lu_18 (ReLU)                 (None, 157, 2048)    0           add_5[0][0]                      \n",
      "__________________________________________________________________________________________________\n",
      "dropout_18 (Dropout)            (None, 157, 2048)    0           re_lu_18[0][0]                   \n",
      "__________________________________________________________________________________________________\n",
      "conv1d_22 (Conv1D)              (None, 79, 1024)     10486784    dropout_18[0][0]                 \n",
      "__________________________________________________________________________________________________\n",
      "batch_normalization_22 (BatchNo (None, 79, 1024)     4096        conv1d_22[0][0]                  \n",
      "__________________________________________________________________________________________________\n",
      "re_lu_19 (ReLU)                 (None, 79, 1024)     0           batch_normalization_22[0][0]     \n",
      "__________________________________________________________________________________________________\n",
      "dropout_19 (Dropout)            (None, 79, 1024)     0           re_lu_19[0][0]                   \n",
      "__________________________________________________________________________________________________\n",
      "conv1d_23 (Conv1D)              (None, 79, 1024)     5243904     dropout_19[0][0]                 \n",
      "__________________________________________________________________________________________________\n",
      "batch_normalization_23 (BatchNo (None, 79, 1024)     4096        conv1d_23[0][0]                  \n",
      "__________________________________________________________________________________________________\n",
      "re_lu_20 (ReLU)                 (None, 79, 1024)     0           batch_normalization_23[0][0]     \n",
      "__________________________________________________________________________________________________\n",
      "dropout_20 (Dropout)            (None, 79, 1024)     0           re_lu_20[0][0]                   \n",
      "__________________________________________________________________________________________________\n",
      "conv1d_24 (Conv1D)              (None, 79, 4096)     4198400     dropout_20[0][0]                 \n",
      "__________________________________________________________________________________________________\n",
      "conv1d_25 (Conv1D)              (None, 79, 4096)     8392704     dropout_18[0][0]                 \n",
      "__________________________________________________________________________________________________\n",
      "batch_normalization_24 (BatchNo (None, 79, 4096)     16384       conv1d_24[0][0]                  \n",
      "__________________________________________________________________________________________________\n",
      "batch_normalization_25 (BatchNo (None, 79, 4096)     16384       conv1d_25[0][0]                  \n",
      "__________________________________________________________________________________________________\n",
      "add_6 (Add)                     (None, 79, 4096)     0           batch_normalization_24[0][0]     \n",
      "                                                                 batch_normalization_25[0][0]     \n",
      "__________________________________________________________________________________________________\n",
      "re_lu_21 (ReLU)                 (None, 79, 4096)     0           add_6[0][0]                      \n",
      "__________________________________________________________________________________________________\n",
      "dropout_21 (Dropout)            (None, 79, 4096)     0           re_lu_21[0][0]                   \n",
      "__________________________________________________________________________________________________\n",
      "global_average_pooling1d (Globa (None, 4096)         0           dropout_21[0][0]                 \n",
      "__________________________________________________________________________________________________\n",
      "dropout_22 (Dropout)            (None, 4096)         0           global_average_pooling1d[0][0]   \n",
      "__________________________________________________________________________________________________\n",
      "dense (Dense)                   (None, 512)          2097664     dropout_22[0][0]                 \n",
      "__________________________________________________________________________________________________\n",
      "dropout_23 (Dropout)            (None, 512)          0           dense[0][0]                      \n",
      "__________________________________________________________________________________________________\n",
      "dense_1 (Dense)                 (None, 128)          65664       dropout_23[0][0]                 \n",
      "__________________________________________________________________________________________________\n",
      "dropout_24 (Dropout)            (None, 128)          0           dense_1[0][0]                    \n",
      "__________________________________________________________________________________________________\n",
      "dense_2 (Dense)                 (None, 1)            129         dropout_24[0][0]                 \n",
      "==================================================================================================\n",
      "Total params: 49,724,289\n",
      "Trainable params: 49,674,881\n",
      "Non-trainable params: 49,408\n",
      "__________________________________________________________________________________________________\n"
     ]
    }
   ],
   "source": [
    "model.summary()"
   ]
  },
  {
   "cell_type": "code",
   "execution_count": 49,
   "metadata": {
    "id": "VNqQd8W5xF2O"
   },
   "outputs": [],
   "source": [
    "opt = tf.keras.optimizers.Adam(learning_rate=0.00002)\n",
    "bce = tf.keras.losses.BinaryCrossentropy(label_smoothing=0.25) # label smoothing to prevent large weights\n",
    "\n",
    "model.compile(optimizer=opt, loss=bce, metrics=['accuracy'])"
   ]
  },
  {
   "cell_type": "code",
   "execution_count": 50,
   "metadata": {},
   "outputs": [],
   "source": [
    "filepath=\"mi_checkpoints/weights-{epoch:02d}.hdf5\"\n",
    "checkpoint_cb = tf.keras.callbacks.ModelCheckpoint(filepath, verbose=1, save_weights_only=True)"
   ]
  },
  {
   "cell_type": "code",
   "execution_count": null,
   "metadata": {},
   "outputs": [
    {
     "name": "stdout",
     "output_type": "stream",
     "text": [
      "Epoch 1/25\n",
      "1708/1708 [==============================] - 4159s 2s/step - loss: 298.1616 - accuracy: 0.4895\n",
      "\n",
      "Epoch 00001: saving model to mi_checkpoints/weights-01.hdf5\n",
      "Epoch 2/25\n",
      "1708/1708 [==============================] - 4077s 2s/step - loss: 24.8653 - accuracy: 0.6990\n",
      "\n",
      "Epoch 00002: saving model to mi_checkpoints/weights-02.hdf5\n",
      "Epoch 3/25\n",
      "1708/1708 [==============================] - 3990s 2s/step - loss: 3.7792 - accuracy: 0.7983\n",
      "\n",
      "Epoch 00003: saving model to mi_checkpoints/weights-03.hdf5\n",
      "Epoch 4/25\n",
      "1708/1708 [==============================] - 3997s 2s/step - loss: 1.4924 - accuracy: 0.8374\n",
      "\n",
      "Epoch 00004: saving model to mi_checkpoints/weights-04.hdf5\n",
      "Epoch 5/25\n",
      "1708/1708 [==============================] - 4006s 2s/step - loss: 1.0992 - accuracy: 0.8503\n",
      "\n",
      "Epoch 00005: saving model to mi_checkpoints/weights-05.hdf5\n",
      "Epoch 6/25\n",
      "1708/1708 [==============================] - 3996s 2s/step - loss: 0.9773 - accuracy: 0.8566\n",
      "\n",
      "Epoch 00006: saving model to mi_checkpoints/weights-06.hdf5\n",
      "Epoch 7/25\n",
      "1708/1708 [==============================] - 4000s 2s/step - loss: 0.9241 - accuracy: 0.8640\n",
      "\n",
      "Epoch 00007: saving model to mi_checkpoints/weights-07.hdf5\n",
      "Epoch 8/25\n",
      "1708/1708 [==============================] - 4004s 2s/step - loss: 0.8924 - accuracy: 0.8701\n",
      "\n",
      "Epoch 00008: saving model to mi_checkpoints/weights-08.hdf5\n",
      "Epoch 9/25\n",
      "1708/1708 [==============================] - 3976s 2s/step - loss: 0.8690 - accuracy: 0.8743\n",
      "\n",
      "Epoch 00009: saving model to mi_checkpoints/weights-09.hdf5\n",
      "Epoch 10/25\n",
      "1708/1708 [==============================] - 4007s 2s/step - loss: 0.8525 - accuracy: 0.8792\n",
      "\n",
      "Epoch 00010: saving model to mi_checkpoints/weights-10.hdf5\n",
      "Epoch 11/25\n",
      "1708/1708 [==============================] - 4004s 2s/step - loss: 0.8435 - accuracy: 0.8807\n",
      "\n",
      "Epoch 00011: saving model to mi_checkpoints/weights-11.hdf5\n",
      "Epoch 12/25\n",
      "1708/1708 [==============================] - 3987s 2s/step - loss: 0.8338 - accuracy: 0.8823\n",
      "\n",
      "Epoch 00012: saving model to mi_checkpoints/weights-12.hdf5\n",
      "Epoch 13/25\n",
      "1708/1708 [==============================] - 3987s 2s/step - loss: 0.8241 - accuracy: 0.8852\n",
      "\n",
      "Epoch 00013: saving model to mi_checkpoints/weights-13.hdf5\n",
      "Epoch 14/25\n",
      "1708/1708 [==============================] - 3986s 2s/step - loss: 0.8196 - accuracy: 0.8878\n",
      "\n",
      "Epoch 00014: saving model to mi_checkpoints/weights-14.hdf5\n",
      "Epoch 15/25\n",
      "1708/1708 [==============================] - 4013s 2s/step - loss: 0.8175 - accuracy: 0.8874\n",
      "\n",
      "Epoch 00015: saving model to mi_checkpoints/weights-15.hdf5\n",
      "Epoch 16/25\n",
      "1708/1708 [==============================] - 4012s 2s/step - loss: 0.8138 - accuracy: 0.8923\n",
      "\n",
      "Epoch 00016: saving model to mi_checkpoints/weights-16.hdf5\n",
      "Epoch 17/25\n",
      "1708/1708 [==============================] - 4025s 2s/step - loss: 0.8064 - accuracy: 0.8919\n",
      "\n",
      "Epoch 00017: saving model to mi_checkpoints/weights-17.hdf5\n",
      "Epoch 18/25\n",
      "1708/1708 [==============================] - 4027s 2s/step - loss: 0.8046 - accuracy: 0.8932\n",
      "\n",
      "Epoch 00018: saving model to mi_checkpoints/weights-18.hdf5\n",
      "Epoch 19/25\n",
      "1692/1708 [============================>.] - ETA: 37s - loss: 0.7992 - accuracy: 0.8956"
     ]
    }
   ],
   "source": [
    "model.fit(train_dataset,\n",
    "          steps_per_epoch = int(109343/64),\n",
    "          epochs=25,\n",
    "          class_weight={0:1.0, 1:2.0},\n",
    "          callbacks=[checkpoint_cb]\n",
    "          )"
   ]
  },
  {
   "cell_type": "code",
   "execution_count": 429,
   "metadata": {},
   "outputs": [],
   "source": [
    "# load the best set of weights\n",
    "\n",
    "model.load_weights(\"mi_checkpoints/weights-17.hdf5\")\n",
    "model.compile(optimizer=opt, loss=bce, metrics=['accuracy'])"
   ]
  },
  {
   "cell_type": "markdown",
   "metadata": {},
   "source": [
    "## Results\n",
    "\n",
    "Precision = Out of all cases that are PREDICTED as positive, how many of them are ACTUALLY positive\n",
    "\n",
    "Recall = Out of all cases that are ACTUALLY positive, how many of them are PREDICTED as positive\n",
    "\n",
    "True Positive Rate = if a patient actually has Afl, how many percent of the time will the algorithm identify that he has Afl\n",
    "\n",
    "False Positive Rate = if a patient actually does NOT have Afl, how many percent of the time will the algorithm say that he has Afl"
   ]
  },
  {
   "cell_type": "markdown",
   "metadata": {},
   "source": [
    "### Train Results"
   ]
  },
  {
   "cell_type": "code",
   "execution_count": 430,
   "metadata": {},
   "outputs": [],
   "source": [
    "from sklearn.metrics import confusion_matrix\n",
    "from cf_matrix import make_confusion_matrix"
   ]
  },
  {
   "cell_type": "code",
   "execution_count": 432,
   "metadata": {},
   "outputs": [],
   "source": [
    "train_dataset = tf.data.Dataset.from_tensor_slices((x_train, y_train))\n",
    "train_dataset = train_dataset.map(get_val)\n",
    "train_dataset = train_dataset.batch(64, drop_remainder=False)"
   ]
  },
  {
   "cell_type": "code",
   "execution_count": null,
   "metadata": {},
   "outputs": [],
   "source": [
    "y_pred = model.predict(train_dataset)"
   ]
  },
  {
   "cell_type": "code",
   "execution_count": 435,
   "metadata": {},
   "outputs": [],
   "source": [
    "mi_true = y_train.T[0]\n",
    "mi_pred = y_pred.T[0]\n",
    "\n",
    "mi_pred = np.around(mi_pred).astype(np.int)"
   ]
  },
  {
   "cell_type": "code",
   "execution_count": null,
   "metadata": {},
   "outputs": [],
   "source": [
    "cf_m = confusion_matrix(mi_true, mi_pred)"
   ]
  },
  {
   "cell_type": "code",
   "execution_count": 438,
   "metadata": {},
   "outputs": [
    {
     "name": "stdout",
     "output_type": "stream",
     "text": [
      "True Postive Rate: 0.992789020702489\n",
      "False Postive Rate: 0.27814484158958325\n"
     ]
    },
    {
     "data": {
      "image/png": "[encoded data removed]",
      "text/plain": [
       "<Figure size 432x288 with 2 Axes>"
      ]
     },
     "metadata": {
      "needs_background": "light"
     },
     "output_type": "display_data"
    }
   ],
   "source": [
    "labels = ['True Neg','False Pos','False Neg','True Pos']\n",
    "categories = ['Absent', 'Present']\n",
    "make_confusion_matrix(cf_m,\n",
    "                      group_names=labels,\n",
    "                      categories=categories,\n",
    "                      cmap='binary')\n",
    "\n",
    "print('True Postive Rate: {}'.format(cf_m[1][1]/(cf_m[1][0] + cf_m[1][1])))\n",
    "print('False Postive Rate: {}'.format(cf_m[0][1]/(cf_m[0][0] + cf_m[0][1])))"
   ]
  },
  {
   "cell_type": "markdown",
   "metadata": {},
   "source": [
    "### Val Results"
   ]
  },
  {
   "cell_type": "code",
   "execution_count": 439,
   "metadata": {},
   "outputs": [],
   "source": [
    "val_dataset = tf.data.Dataset.from_tensor_slices((x_val, y_val))\n",
    "val_dataset = val_dataset.map(get_val)\n",
    "val_dataset = val_dataset.batch(64, drop_remainder=False)"
   ]
  },
  {
   "cell_type": "code",
   "execution_count": 440,
   "metadata": {
    "colab": {
     "base_uri": "https://localhost:8080/"
    },
    "executionInfo": {
     "elapsed": 414,
     "status": "ok",
     "timestamp": 1627709067952,
     "user": {
      "displayName": "Biotrack Software",
      "photoUrl": "",
      "userId": "16396993350817110528"
     },
     "user_tz": -480
    },
    "id": "UEwK1Gd7ALkU",
    "outputId": "a2f8eeb0-34b8-4ffe-bb3a-fbe737990e1d"
   },
   "outputs": [],
   "source": [
    "y_pred = model.predict(val_dataset)"
   ]
  },
  {
   "cell_type": "code",
   "execution_count": 444,
   "metadata": {
    "id": "A6rWRsDGBn-q"
   },
   "outputs": [],
   "source": [
    "mi_true = y_val.T[0]\n",
    "mi_pred = y_pred.T[0]\n",
    "\n",
    "mi_pred = np.around(mi_pred).astype(np.int)"
   ]
  },
  {
   "cell_type": "code",
   "execution_count": null,
   "metadata": {},
   "outputs": [],
   "source": [
    "cf_m = confusion_matrix(mi_true, mi_pred)"
   ]
  },
  {
   "cell_type": "code",
   "execution_count": 446,
   "metadata": {},
   "outputs": [
    {
     "name": "stdout",
     "output_type": "stream",
     "text": [
      "True Postive Rate: 0.989010989010989\n",
      "False Postive Rate: 0.28437762147512424\n"
     ]
    },
    {
     "data": {
      "image/png": "[encoded data removed]",
      "text/plain": [
       "<Figure size 432x288 with 2 Axes>"
      ]
     },
     "metadata": {
      "needs_background": "light"
     },
     "output_type": "display_data"
    }
   ],
   "source": [
    "labels = ['True Neg','False Pos','False Neg','True Pos']\n",
    "categories = ['Absent', 'Present']\n",
    "make_confusion_matrix(cf_m,\n",
    "                      group_names=labels,\n",
    "                      categories=categories, \n",
    "                      cmap='binary')\n",
    "\n",
    "print('True Postive Rate: {}'.format(cf_m[1][1]/(cf_m[1][0] + cf_m[1][1])))\n",
    "print('False Postive Rate: {}'.format(cf_m[0][1]/(cf_m[0][0] + cf_m[0][1])))"
   ]
  },
  {
   "cell_type": "markdown",
   "metadata": {},
   "source": [
    "## Save Model"
   ]
  },
  {
   "cell_type": "code",
   "execution_count": 447,
   "metadata": {},
   "outputs": [],
   "source": [
    "model.save('mi_model.h5')"
   ]
  },
  {
   "cell_type": "markdown",
   "metadata": {},
   "source": [
    "## Load Model"
   ]
  },
  {
   "cell_type": "code",
   "execution_count": 448,
   "metadata": {
    "scrolled": false
   },
   "outputs": [
    {
     "name": "stdout",
     "output_type": "stream",
     "text": [
      "Model: \"simple-res\"\n",
      "__________________________________________________________________________________________________\n",
      "Layer (type)                    Output Shape         Param #     Connected to                     \n",
      "==================================================================================================\n",
      "Inp (InputLayer)                [(None, 2500, 4)]    0                                            \n",
      "__________________________________________________________________________________________________\n",
      "conv1d (Conv1D)                 (None, 1250, 128)    5760        Inp[0][0]                        \n",
      "__________________________________________________________________________________________________\n",
      "batch_normalization (BatchNorma (None, 1250, 128)    512         conv1d[0][0]                     \n",
      "__________________________________________________________________________________________________\n",
      "re_lu (ReLU)                    (None, 1250, 128)    0           batch_normalization[0][0]        \n",
      "__________________________________________________________________________________________________\n",
      "dropout (Dropout)               (None, 1250, 128)    0           re_lu[0][0]                      \n",
      "__________________________________________________________________________________________________\n",
      "max_pooling1d (MaxPooling1D)    (None, 625, 128)     0           dropout[0][0]                    \n",
      "__________________________________________________________________________________________________\n",
      "conv1d_1 (Conv1D)               (None, 625, 128)     82048       max_pooling1d[0][0]              \n",
      "__________________________________________________________________________________________________\n",
      "batch_normalization_1 (BatchNor (None, 625, 128)     512         conv1d_1[0][0]                   \n",
      "__________________________________________________________________________________________________\n",
      "re_lu_1 (ReLU)                  (None, 625, 128)     0           batch_normalization_1[0][0]      \n",
      "__________________________________________________________________________________________________\n",
      "dropout_1 (Dropout)             (None, 625, 128)     0           re_lu_1[0][0]                    \n",
      "__________________________________________________________________________________________________\n",
      "conv1d_2 (Conv1D)               (None, 625, 128)     82048       dropout_1[0][0]                  \n",
      "__________________________________________________________________________________________________\n",
      "batch_normalization_2 (BatchNor (None, 625, 128)     512         conv1d_2[0][0]                   \n",
      "__________________________________________________________________________________________________\n",
      "re_lu_2 (ReLU)                  (None, 625, 128)     0           batch_normalization_2[0][0]      \n",
      "__________________________________________________________________________________________________\n",
      "dropout_2 (Dropout)             (None, 625, 128)     0           re_lu_2[0][0]                    \n",
      "__________________________________________________________________________________________________\n",
      "conv1d_3 (Conv1D)               (None, 625, 512)     66048       dropout_2[0][0]                  \n",
      "__________________________________________________________________________________________________\n",
      "conv1d_4 (Conv1D)               (None, 625, 512)     66048       max_pooling1d[0][0]              \n",
      "__________________________________________________________________________________________________\n",
      "batch_normalization_3 (BatchNor (None, 625, 512)     2048        conv1d_3[0][0]                   \n",
      "__________________________________________________________________________________________________\n",
      "batch_normalization_4 (BatchNor (None, 625, 512)     2048        conv1d_4[0][0]                   \n",
      "__________________________________________________________________________________________________\n",
      "add (Add)                       (None, 625, 512)     0           batch_normalization_3[0][0]      \n",
      "                                                                 batch_normalization_4[0][0]      \n",
      "__________________________________________________________________________________________________\n",
      "re_lu_3 (ReLU)                  (None, 625, 512)     0           add[0][0]                        \n",
      "__________________________________________________________________________________________________\n",
      "dropout_3 (Dropout)             (None, 625, 512)     0           re_lu_3[0][0]                    \n",
      "__________________________________________________________________________________________________\n",
      "conv1d_5 (Conv1D)               (None, 625, 128)     327808      dropout_3[0][0]                  \n",
      "__________________________________________________________________________________________________\n",
      "batch_normalization_5 (BatchNor (None, 625, 128)     512         conv1d_5[0][0]                   \n",
      "__________________________________________________________________________________________________\n",
      "re_lu_4 (ReLU)                  (None, 625, 128)     0           batch_normalization_5[0][0]      \n",
      "__________________________________________________________________________________________________\n",
      "dropout_4 (Dropout)             (None, 625, 128)     0           re_lu_4[0][0]                    \n",
      "__________________________________________________________________________________________________\n",
      "conv1d_6 (Conv1D)               (None, 625, 128)     82048       dropout_4[0][0]                  \n",
      "__________________________________________________________________________________________________\n",
      "batch_normalization_6 (BatchNor (None, 625, 128)     512         conv1d_6[0][0]                   \n",
      "__________________________________________________________________________________________________\n",
      "re_lu_5 (ReLU)                  (None, 625, 128)     0           batch_normalization_6[0][0]      \n",
      "__________________________________________________________________________________________________\n",
      "dropout_5 (Dropout)             (None, 625, 128)     0           re_lu_5[0][0]                    \n",
      "__________________________________________________________________________________________________\n",
      "conv1d_7 (Conv1D)               (None, 625, 512)     66048       dropout_5[0][0]                  \n",
      "__________________________________________________________________________________________________\n",
      "batch_normalization_7 (BatchNor (None, 625, 512)     2048        conv1d_7[0][0]                   \n",
      "__________________________________________________________________________________________________\n",
      "add_1 (Add)                     (None, 625, 512)     0           batch_normalization_7[0][0]      \n",
      "                                                                 dropout_3[0][0]                  \n",
      "__________________________________________________________________________________________________\n",
      "re_lu_6 (ReLU)                  (None, 625, 512)     0           add_1[0][0]                      \n",
      "__________________________________________________________________________________________________\n",
      "dropout_6 (Dropout)             (None, 625, 512)     0           re_lu_6[0][0]                    \n",
      "__________________________________________________________________________________________________\n",
      "conv1d_8 (Conv1D)               (None, 313, 256)     655616      dropout_6[0][0]                  \n",
      "__________________________________________________________________________________________________\n",
      "batch_normalization_8 (BatchNor (None, 313, 256)     1024        conv1d_8[0][0]                   \n",
      "__________________________________________________________________________________________________\n",
      "re_lu_7 (ReLU)                  (None, 313, 256)     0           batch_normalization_8[0][0]      \n",
      "__________________________________________________________________________________________________\n",
      "dropout_7 (Dropout)             (None, 313, 256)     0           re_lu_7[0][0]                    \n",
      "__________________________________________________________________________________________________\n",
      "conv1d_9 (Conv1D)               (None, 313, 256)     327936      dropout_7[0][0]                  \n",
      "__________________________________________________________________________________________________\n",
      "batch_normalization_9 (BatchNor (None, 313, 256)     1024        conv1d_9[0][0]                   \n",
      "__________________________________________________________________________________________________\n",
      "re_lu_8 (ReLU)                  (None, 313, 256)     0           batch_normalization_9[0][0]      \n",
      "__________________________________________________________________________________________________\n",
      "dropout_8 (Dropout)             (None, 313, 256)     0           re_lu_8[0][0]                    \n",
      "__________________________________________________________________________________________________\n",
      "conv1d_10 (Conv1D)              (None, 313, 1024)    263168      dropout_8[0][0]                  \n",
      "__________________________________________________________________________________________________\n",
      "conv1d_11 (Conv1D)              (None, 313, 1024)    525312      dropout_6[0][0]                  \n",
      "__________________________________________________________________________________________________\n",
      "batch_normalization_10 (BatchNo (None, 313, 1024)    4096        conv1d_10[0][0]                  \n",
      "__________________________________________________________________________________________________\n",
      "batch_normalization_11 (BatchNo (None, 313, 1024)    4096        conv1d_11[0][0]                  \n",
      "__________________________________________________________________________________________________\n",
      "add_2 (Add)                     (None, 313, 1024)    0           batch_normalization_10[0][0]     \n",
      "                                                                 batch_normalization_11[0][0]     \n",
      "__________________________________________________________________________________________________\n",
      "re_lu_9 (ReLU)                  (None, 313, 1024)    0           add_2[0][0]                      \n",
      "__________________________________________________________________________________________________\n",
      "dropout_9 (Dropout)             (None, 313, 1024)    0           re_lu_9[0][0]                    \n",
      "__________________________________________________________________________________________________\n",
      "conv1d_12 (Conv1D)              (None, 313, 256)     1310976     dropout_9[0][0]                  \n",
      "__________________________________________________________________________________________________\n",
      "batch_normalization_12 (BatchNo (None, 313, 256)     1024        conv1d_12[0][0]                  \n",
      "__________________________________________________________________________________________________\n",
      "re_lu_10 (ReLU)                 (None, 313, 256)     0           batch_normalization_12[0][0]     \n",
      "__________________________________________________________________________________________________\n",
      "dropout_10 (Dropout)            (None, 313, 256)     0           re_lu_10[0][0]                   \n",
      "__________________________________________________________________________________________________\n",
      "conv1d_13 (Conv1D)              (None, 313, 256)     327936      dropout_10[0][0]                 \n",
      "__________________________________________________________________________________________________\n",
      "batch_normalization_13 (BatchNo (None, 313, 256)     1024        conv1d_13[0][0]                  \n",
      "__________________________________________________________________________________________________\n",
      "re_lu_11 (ReLU)                 (None, 313, 256)     0           batch_normalization_13[0][0]     \n",
      "__________________________________________________________________________________________________\n",
      "dropout_11 (Dropout)            (None, 313, 256)     0           re_lu_11[0][0]                   \n",
      "__________________________________________________________________________________________________\n",
      "conv1d_14 (Conv1D)              (None, 313, 1024)    263168      dropout_11[0][0]                 \n",
      "__________________________________________________________________________________________________\n",
      "batch_normalization_14 (BatchNo (None, 313, 1024)    4096        conv1d_14[0][0]                  \n",
      "__________________________________________________________________________________________________\n",
      "add_3 (Add)                     (None, 313, 1024)    0           batch_normalization_14[0][0]     \n",
      "                                                                 dropout_9[0][0]                  \n",
      "__________________________________________________________________________________________________\n",
      "re_lu_12 (ReLU)                 (None, 313, 1024)    0           add_3[0][0]                      \n",
      "__________________________________________________________________________________________________\n",
      "dropout_12 (Dropout)            (None, 313, 1024)    0           re_lu_12[0][0]                   \n",
      "__________________________________________________________________________________________________\n",
      "conv1d_15 (Conv1D)              (None, 157, 512)     2621952     dropout_12[0][0]                 \n",
      "__________________________________________________________________________________________________\n",
      "batch_normalization_15 (BatchNo (None, 157, 512)     2048        conv1d_15[0][0]                  \n",
      "__________________________________________________________________________________________________\n",
      "re_lu_13 (ReLU)                 (None, 157, 512)     0           batch_normalization_15[0][0]     \n",
      "__________________________________________________________________________________________________\n",
      "dropout_13 (Dropout)            (None, 157, 512)     0           re_lu_13[0][0]                   \n",
      "__________________________________________________________________________________________________\n",
      "conv1d_16 (Conv1D)              (None, 157, 512)     1311232     dropout_13[0][0]                 \n",
      "__________________________________________________________________________________________________\n",
      "batch_normalization_16 (BatchNo (None, 157, 512)     2048        conv1d_16[0][0]                  \n",
      "__________________________________________________________________________________________________\n",
      "re_lu_14 (ReLU)                 (None, 157, 512)     0           batch_normalization_16[0][0]     \n",
      "__________________________________________________________________________________________________\n",
      "dropout_14 (Dropout)            (None, 157, 512)     0           re_lu_14[0][0]                   \n",
      "__________________________________________________________________________________________________\n",
      "conv1d_17 (Conv1D)              (None, 157, 2048)    1050624     dropout_14[0][0]                 \n",
      "__________________________________________________________________________________________________\n",
      "conv1d_18 (Conv1D)              (None, 157, 2048)    2099200     dropout_12[0][0]                 \n",
      "__________________________________________________________________________________________________\n",
      "batch_normalization_17 (BatchNo (None, 157, 2048)    8192        conv1d_17[0][0]                  \n",
      "__________________________________________________________________________________________________\n",
      "batch_normalization_18 (BatchNo (None, 157, 2048)    8192        conv1d_18[0][0]                  \n",
      "__________________________________________________________________________________________________\n",
      "add_4 (Add)                     (None, 157, 2048)    0           batch_normalization_17[0][0]     \n",
      "                                                                 batch_normalization_18[0][0]     \n",
      "__________________________________________________________________________________________________\n",
      "re_lu_15 (ReLU)                 (None, 157, 2048)    0           add_4[0][0]                      \n",
      "__________________________________________________________________________________________________\n",
      "dropout_15 (Dropout)            (None, 157, 2048)    0           re_lu_15[0][0]                   \n",
      "__________________________________________________________________________________________________\n",
      "conv1d_19 (Conv1D)              (None, 157, 512)     5243392     dropout_15[0][0]                 \n",
      "__________________________________________________________________________________________________\n",
      "batch_normalization_19 (BatchNo (None, 157, 512)     2048        conv1d_19[0][0]                  \n",
      "__________________________________________________________________________________________________\n",
      "re_lu_16 (ReLU)                 (None, 157, 512)     0           batch_normalization_19[0][0]     \n",
      "__________________________________________________________________________________________________\n",
      "dropout_16 (Dropout)            (None, 157, 512)     0           re_lu_16[0][0]                   \n",
      "__________________________________________________________________________________________________\n",
      "conv1d_20 (Conv1D)              (None, 157, 512)     1311232     dropout_16[0][0]                 \n",
      "__________________________________________________________________________________________________\n",
      "batch_normalization_20 (BatchNo (None, 157, 512)     2048        conv1d_20[0][0]                  \n",
      "__________________________________________________________________________________________________\n",
      "re_lu_17 (ReLU)                 (None, 157, 512)     0           batch_normalization_20[0][0]     \n",
      "__________________________________________________________________________________________________\n",
      "dropout_17 (Dropout)            (None, 157, 512)     0           re_lu_17[0][0]                   \n",
      "__________________________________________________________________________________________________\n",
      "conv1d_21 (Conv1D)              (None, 157, 2048)    1050624     dropout_17[0][0]                 \n",
      "__________________________________________________________________________________________________\n",
      "batch_normalization_21 (BatchNo (None, 157, 2048)    8192        conv1d_21[0][0]                  \n",
      "__________________________________________________________________________________________________\n",
      "add_5 (Add)                     (None, 157, 2048)    0           batch_normalization_21[0][0]     \n",
      "                                                                 dropout_15[0][0]                 \n",
      "__________________________________________________________________________________________________\n",
      "re_lu_18 (ReLU)                 (None, 157, 2048)    0           add_5[0][0]                      \n",
      "__________________________________________________________________________________________________\n",
      "dropout_18 (Dropout)            (None, 157, 2048)    0           re_lu_18[0][0]                   \n",
      "__________________________________________________________________________________________________\n",
      "conv1d_22 (Conv1D)              (None, 79, 1024)     10486784    dropout_18[0][0]                 \n",
      "__________________________________________________________________________________________________\n",
      "batch_normalization_22 (BatchNo (None, 79, 1024)     4096        conv1d_22[0][0]                  \n",
      "__________________________________________________________________________________________________\n",
      "re_lu_19 (ReLU)                 (None, 79, 1024)     0           batch_normalization_22[0][0]     \n",
      "__________________________________________________________________________________________________\n",
      "dropout_19 (Dropout)            (None, 79, 1024)     0           re_lu_19[0][0]                   \n",
      "__________________________________________________________________________________________________\n",
      "conv1d_23 (Conv1D)              (None, 79, 1024)     5243904     dropout_19[0][0]                 \n",
      "__________________________________________________________________________________________________\n",
      "batch_normalization_23 (BatchNo (None, 79, 1024)     4096        conv1d_23[0][0]                  \n",
      "__________________________________________________________________________________________________\n",
      "re_lu_20 (ReLU)                 (None, 79, 1024)     0           batch_normalization_23[0][0]     \n",
      "__________________________________________________________________________________________________\n",
      "dropout_20 (Dropout)            (None, 79, 1024)     0           re_lu_20[0][0]                   \n",
      "__________________________________________________________________________________________________\n",
      "conv1d_24 (Conv1D)              (None, 79, 4096)     4198400     dropout_20[0][0]                 \n",
      "__________________________________________________________________________________________________\n",
      "conv1d_25 (Conv1D)              (None, 79, 4096)     8392704     dropout_18[0][0]                 \n",
      "__________________________________________________________________________________________________\n",
      "batch_normalization_24 (BatchNo (None, 79, 4096)     16384       conv1d_24[0][0]                  \n",
      "__________________________________________________________________________________________________\n",
      "batch_normalization_25 (BatchNo (None, 79, 4096)     16384       conv1d_25[0][0]                  \n",
      "__________________________________________________________________________________________________\n",
      "add_6 (Add)                     (None, 79, 4096)     0           batch_normalization_24[0][0]     \n",
      "                                                                 batch_normalization_25[0][0]     \n",
      "__________________________________________________________________________________________________\n",
      "re_lu_21 (ReLU)                 (None, 79, 4096)     0           add_6[0][0]                      \n",
      "__________________________________________________________________________________________________\n",
      "dropout_21 (Dropout)            (None, 79, 4096)     0           re_lu_21[0][0]                   \n",
      "__________________________________________________________________________________________________\n",
      "global_average_pooling1d (Globa (None, 4096)         0           dropout_21[0][0]                 \n",
      "__________________________________________________________________________________________________\n",
      "dropout_22 (Dropout)            (None, 4096)         0           global_average_pooling1d[0][0]   \n",
      "__________________________________________________________________________________________________\n",
      "dense (Dense)                   (None, 512)          2097664     dropout_22[0][0]                 \n",
      "__________________________________________________________________________________________________\n",
      "dropout_23 (Dropout)            (None, 512)          0           dense[0][0]                      \n",
      "__________________________________________________________________________________________________\n",
      "dense_1 (Dense)                 (None, 128)          65664       dropout_23[0][0]                 \n",
      "__________________________________________________________________________________________________\n",
      "dropout_24 (Dropout)            (None, 128)          0           dense_1[0][0]                    \n",
      "__________________________________________________________________________________________________\n",
      "dense_2 (Dense)                 (None, 1)            129         dropout_24[0][0]                 \n",
      "==================================================================================================\n",
      "Total params: 49,724,289\n",
      "Trainable params: 49,674,881\n",
      "Non-trainable params: 49,408\n",
      "__________________________________________________________________________________________________\n"
     ]
    }
   ],
   "source": [
    "# To use the model, simply load the model\n",
    "\n",
    "loaded_model = tf.keras.models.load_model('mi_model_1.h5')\n",
    "loaded_model.summary()"
   ]
  },
  {
   "cell_type": "code",
   "execution_count": null,
   "metadata": {},
   "outputs": [],
   "source": [
    "# Then, use the model wit the following command\n",
    "\n",
    "loaded_model.predict(X)"
   ]
  }
 ],
 "metadata": {
  "colab": {
   "collapsed_sections": [],
   "name": "resnet_test.ipynb",
   "provenance": [
    {
     "file_id": "1h46Vadq-_XhLYHlr5hqQZDfHvrbq93An",
     "timestamp": 1627661538169
    },
    {
     "file_id": "1cAMXcgkUqb2I6mpwAUk0eHVdUUVuMwfM",
     "timestamp": 1595900012420
    }
   ]
  },
  "kernelspec": {
   "display_name": "Python 3",
   "language": "python",
   "name": "python3"
  },
  "language_info": {
   "codemirror_mode": {
    "name": "ipython",
    "version": 3
   },
   "file_extension": ".py",
   "mimetype": "text/x-python",
   "name": "python",
   "nbconvert_exporter": "python",
   "pygments_lexer": "ipython3",
   "version": "3.8.5"
  }
 },
 "nbformat": 4,
 "nbformat_minor": 1
}
